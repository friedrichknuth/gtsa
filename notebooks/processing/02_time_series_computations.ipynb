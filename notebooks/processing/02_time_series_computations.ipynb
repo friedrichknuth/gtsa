{
 "cells": [
  {
   "cell_type": "code",
   "execution_count": null,
   "id": "e40ca30e",
   "metadata": {},
   "outputs": [],
   "source": [
    "%load_ext autoreload\n",
    "%autoreload 2"
   ]
  },
  {
   "cell_type": "code",
   "execution_count": null,
   "id": "1737992e",
   "metadata": {},
   "outputs": [],
   "source": [
    "import gtsa\n",
    "\n",
    "from pathlib import Path\n",
    "import psutil\n",
    "import xarray as xr\n",
    "import rasterio\n",
    "import geopandas as gpd\n",
    "import pandas as pd\n",
    "import numpy as np\n",
    "from sklearn import linear_model\n",
    "import matplotlib.pyplot as plt\n",
    "import hvplot.xarray"
   ]
  },
  {
   "cell_type": "markdown",
   "id": "22b13109",
   "metadata": {},
   "source": [
    "# Time series computations\n",
    "\n",
    "Demonstrates memory-efficient per-pixel computations along the time axis.\n",
    "\n",
    "#### Prerequesites\n",
    "- Download DEM data with `00_download_dem_data.py` or `00_download_dem_data.ipynb`\n",
    "- Prepare zarr stack with `01_create_stacks.py` or `01_create_stacks.ipynb`"
   ]
  },
  {
   "cell_type": "markdown",
   "id": "2753947d",
   "metadata": {},
   "source": [
    "## Start dask cluster"
   ]
  },
  {
   "cell_type": "code",
   "execution_count": null,
   "id": "5b83c994",
   "metadata": {},
   "outputs": [],
   "source": [
    "workers = psutil.cpu_count(logical=True)-1\n",
    "client = gtsa.io.dask_start_cluster(workers,\n",
    "                                    ip_addres=None, # replace with address if working on remote machine\n",
    "                                    port=':8787',\n",
    "                                   )"
   ]
  },
  {
   "cell_type": "markdown",
   "id": "3e762afc",
   "metadata": {},
   "source": [
    "## Read zarr stack"
   ]
  },
  {
   "cell_type": "code",
   "execution_count": null,
   "id": "9d0db66b",
   "metadata": {},
   "outputs": [],
   "source": [
    "data_dir = '../../data/dems/south-cascade/' # small test dataset\n",
    "# data_dir = '../../data/dems/mount-baker' # large dataset"
   ]
  },
  {
   "cell_type": "code",
   "execution_count": null,
   "id": "94490ae4",
   "metadata": {},
   "outputs": [],
   "source": [
    "zarr_fn = Path(data_dir, 'stack/stack.zarr').as_posix()\n",
    "ds = xr.open_dataset(zarr_fn,chunks='auto',engine='zarr')\n",
    "\n",
    "# optimize chunks and reload lazily\n",
    "tc,yc,xc = gtsa.io.determine_optimal_chuck_size(ds,print_info = True) \n",
    "ds = xr.open_dataset(zarr_fn,chunks={'time': tc, 'y': yc, 'x':xc},engine='zarr')\n",
    "\n",
    "# assign crs back\n",
    "crs = rasterio.crs.CRS.from_epsg(32610)\n",
    "ds = ds.rio.write_crs(crs)"
   ]
  },
  {
   "cell_type": "code",
   "execution_count": null,
   "id": "d439fe1a",
   "metadata": {},
   "outputs": [],
   "source": [
    "## optionally select a small window at the center of array for testing purposes\n",
    "ds = gtsa.geospatial.extract_dataset_center_window(ds, size = 500)"
   ]
  },
  {
   "cell_type": "code",
   "execution_count": null,
   "id": "b9a91889",
   "metadata": {},
   "outputs": [],
   "source": [
    "ds['band1'].isel(time=0).plot()"
   ]
  },
  {
   "cell_type": "code",
   "execution_count": null,
   "id": "c6fda961",
   "metadata": {},
   "outputs": [],
   "source": [
    "ds['band1'] # each is dimensioned along the full time series"
   ]
  },
  {
   "cell_type": "markdown",
   "id": "c97a4dd4",
   "metadata": {},
   "source": [
    "## Simple computations along time axis"
   ]
  },
  {
   "cell_type": "markdown",
   "id": "a02690d9",
   "metadata": {},
   "source": [
    "### Count\n",
    "Compute per-pixel count using built in xarray method"
   ]
  },
  {
   "cell_type": "code",
   "execution_count": null,
   "id": "76405567",
   "metadata": {},
   "outputs": [],
   "source": [
    "%%time\n",
    "count = ds['band1'].count(axis=0).compute()"
   ]
  },
  {
   "cell_type": "code",
   "execution_count": null,
   "id": "7bc4f6ec",
   "metadata": {},
   "outputs": [],
   "source": [
    "count.plot();"
   ]
  },
  {
   "cell_type": "markdown",
   "id": "766cae9e",
   "metadata": {},
   "source": [
    "### NMAD\n",
    "Compute per-pixel Normalized Median Absolute Deviation \n",
    "\n",
    "- This example highlights the use of a custom function"
   ]
  },
  {
   "cell_type": "code",
   "execution_count": null,
   "id": "0ccceab6",
   "metadata": {},
   "outputs": [],
   "source": [
    "def nmad(array):\n",
    "    if np.all(~np.isfinite(array)):\n",
    "        return np.nan\n",
    "    else:\n",
    "        return 1.4826 * np.nanmedian(np.abs(array - np.nanmedian(array)))"
   ]
  },
  {
   "cell_type": "code",
   "execution_count": null,
   "id": "100d2846",
   "metadata": {},
   "outputs": [],
   "source": [
    "result = xr.apply_ufunc(nmad, \n",
    "                        ds['band1'],\n",
    "                        input_core_dims=[['time']],\n",
    "                        vectorize=True, \n",
    "                        dask='parallelized',\n",
    "                        output_dtypes=[float],\n",
    "                       )"
   ]
  },
  {
   "cell_type": "code",
   "execution_count": null,
   "id": "20d5e3eb",
   "metadata": {},
   "outputs": [],
   "source": [
    "%%time\n",
    "array = result.compute()"
   ]
  },
  {
   "cell_type": "code",
   "execution_count": null,
   "id": "98ad1ee6",
   "metadata": {},
   "outputs": [],
   "source": [
    "# create empty DataArray container\n",
    "nmad_da = ds['band1'].isel(time=0).drop('time') \n",
    "\n",
    "# replace data values\n",
    "nmad_da.values = array \n",
    "\n",
    "# give the data variable a name\n",
    "nmad_da.name   = 'nmad' "
   ]
  },
  {
   "cell_type": "code",
   "execution_count": null,
   "id": "176546fb",
   "metadata": {},
   "outputs": [],
   "source": [
    "nmad_da.plot(vmax=20);"
   ]
  },
  {
   "cell_type": "markdown",
   "id": "cf52314b",
   "metadata": {},
   "source": [
    "## Linear regression"
   ]
  },
  {
   "cell_type": "code",
   "execution_count": null,
   "id": "29895b61",
   "metadata": {},
   "outputs": [],
   "source": [
    "# create a time series to make predictions on as decimal year floats\n",
    "start = ds['time'].dt.strftime('%Y-%m-%d').values[0]\n",
    "end = ds['time'].dt.strftime('%Y-%m-%d').values[-1]\n",
    "prediction_time_series = gtsa.temporal.create_prediction_timeseries(start_date = start,\n",
    "                                                                    end_date = end,\n",
    "                                                                    dt ='Y')\n",
    "\n",
    "# prepare time values as decimal year floats\n",
    "times = [pd.to_datetime(j) for j in ds['band1'].time.values]\n",
    "decyear_times = [gtsa.utils.date_time_to_decyear(i) for i in times] \n",
    "decyear_times = np.array(decyear_times)\n",
    "\n",
    "ds['time'] = decyear_times"
   ]
  },
  {
   "cell_type": "markdown",
   "id": "5b393942",
   "metadata": {},
   "source": [
    "#### Example 1\n",
    "Compute linear regression using a custom function with condition"
   ]
  },
  {
   "cell_type": "code",
   "execution_count": null,
   "id": "3f78baa3",
   "metadata": {},
   "outputs": [],
   "source": [
    "def custom_linreg(x,y, threshold = 2):\n",
    "    mask = np.isfinite(y) # create mask for np.nan values\n",
    "    if len(y[mask]) < threshold: # return np.nan if less than threshold\n",
    "        return np.nan\n",
    "    return np.polyfit(x[mask], y[mask], 1)[0]"
   ]
  },
  {
   "cell_type": "code",
   "execution_count": null,
   "id": "d9e16aeb",
   "metadata": {},
   "outputs": [],
   "source": [
    "result = xr.apply_ufunc(\n",
    "        custom_linreg, decyear_times , ds['band1'],\n",
    "        input_core_dims=[['time'], ['time']],\n",
    "        vectorize=True, \n",
    "        dask='parallelized',\n",
    "        output_dtypes=[float],\n",
    "        )"
   ]
  },
  {
   "cell_type": "code",
   "execution_count": null,
   "id": "557a36ef",
   "metadata": {},
   "outputs": [],
   "source": [
    "custom_slope = result.compute()"
   ]
  },
  {
   "cell_type": "code",
   "execution_count": null,
   "id": "e9ed7626",
   "metadata": {},
   "outputs": [],
   "source": [
    "custom_slope.plot(vmin =-2, vmax = 2, cmap ='RdBu')"
   ]
  },
  {
   "cell_type": "markdown",
   "id": "10e9d2e8",
   "metadata": {},
   "source": [
    "#### Example 2\n",
    "Compute linear regression using built-in xarray polyfit function\n",
    "- throws warnings when only a single data point is present in the time series"
   ]
  },
  {
   "cell_type": "code",
   "execution_count": null,
   "id": "5fc7b70e",
   "metadata": {},
   "outputs": [],
   "source": [
    "result = ds['band1'].polyfit(dim='time', deg = 1).compute()"
   ]
  },
  {
   "cell_type": "code",
   "execution_count": null,
   "id": "4a73a8b6",
   "metadata": {},
   "outputs": [],
   "source": [
    "slope = result['polyfit_coefficients'].sel(degree = 1)"
   ]
  },
  {
   "cell_type": "code",
   "execution_count": null,
   "id": "f38c3b8d",
   "metadata": {},
   "outputs": [],
   "source": [
    "slope.plot(vmin =-2, vmax = 2, cmap ='RdBu')"
   ]
  },
  {
   "cell_type": "markdown",
   "id": "7fcd6b07",
   "metadata": {},
   "source": [
    "#### Example 3\n",
    "\n",
    "Compute linear regression using [Theil-Sen regressor](https://scikit-learn.org/stable/modules/generated/sklearn.linear_model.TheilSenRegressor.html)\n",
    "\n",
    "- Using numpy for a linear regression is much faster than the external Theil-Sen function\n",
    "- The Theil-Sen regression is more robust to outliers than a standard fit"
   ]
  },
  {
   "cell_type": "code",
   "execution_count": null,
   "id": "14582fc4",
   "metadata": {},
   "outputs": [],
   "source": [
    "def ts_linreg(x,y, threshold = 2):\n",
    "    mask = np.isfinite(y)\n",
    "    if len(y[mask]) < threshold: \n",
    "        return np.nan \n",
    "    m = linear_model.TheilSenRegressor()\n",
    "    return m.fit(x[mask][:, np.newaxis], y[mask]).coef_ # return slope"
   ]
  },
  {
   "cell_type": "code",
   "execution_count": null,
   "id": "c77b0e7b",
   "metadata": {},
   "outputs": [],
   "source": [
    "result = xr.apply_ufunc(\n",
    "        ts_linreg, decyear_times , ds['band1'],\n",
    "        input_core_dims=[['time'], ['time']],\n",
    "        vectorize=True, \n",
    "        dask='parallelized',\n",
    "        output_dtypes=[float],\n",
    "        )"
   ]
  },
  {
   "cell_type": "code",
   "execution_count": null,
   "id": "b3160503",
   "metadata": {},
   "outputs": [],
   "source": [
    "# ts_slope = result.compute()"
   ]
  },
  {
   "cell_type": "code",
   "execution_count": null,
   "id": "372627bb",
   "metadata": {},
   "outputs": [],
   "source": [
    "# ts_slope.plot(vmin =-2, vmax = 2, cmap ='RdBu')"
   ]
  },
  {
   "cell_type": "markdown",
   "id": "38c20022",
   "metadata": {},
   "source": [
    "## Fitting polynomials"
   ]
  },
  {
   "cell_type": "code",
   "execution_count": null,
   "id": "4544c785",
   "metadata": {},
   "outputs": [],
   "source": [
    "degree = 5\n",
    "result = ds['band1'].polyfit(dim='time', deg = degree).compute()"
   ]
  },
  {
   "cell_type": "code",
   "execution_count": null,
   "id": "55f8c0ac",
   "metadata": {},
   "outputs": [],
   "source": [
    "data = np.array(prediction_time_series)\n",
    "coords = [np.array(prediction_time_series)]\n",
    "dims = ['time']"
   ]
  },
  {
   "cell_type": "code",
   "execution_count": null,
   "id": "945082aa",
   "metadata": {},
   "outputs": [],
   "source": [
    "prediction_da = xr.DataArray(data,\n",
    "                             coords,\n",
    "                             dims = dims)\n",
    "prediction_da.name = 'time'"
   ]
  },
  {
   "cell_type": "code",
   "execution_count": null,
   "id": "2e3e1928",
   "metadata": {},
   "outputs": [],
   "source": [
    "estimate = xr.polyval(prediction_da['time'], \n",
    "                      result.polyfit_coefficients)\n",
    "\n",
    "estimate.name = 'elevation' "
   ]
  },
  {
   "cell_type": "code",
   "execution_count": null,
   "id": "0a8a6d19",
   "metadata": {},
   "outputs": [],
   "source": [
    "estimate.isel(time=1).plot()"
   ]
  },
  {
   "cell_type": "code",
   "execution_count": null,
   "id": "79f085f7",
   "metadata": {},
   "outputs": [],
   "source": [
    "estimate.hvplot(groupby='time', \n",
    "                width=800,\n",
    "                height=500,\n",
    "                widget_type='scrubber', \n",
    "                widget_location='bottom', \n",
    "                clim=(1800,1900),\n",
    "                cmap='viridis')"
   ]
  },
  {
   "cell_type": "markdown",
   "id": "8cb0ffeb",
   "metadata": {},
   "source": [
    "## Gaussian Process Regression"
   ]
  },
  {
   "cell_type": "code",
   "execution_count": null,
   "id": "22e1b6a3",
   "metadata": {},
   "outputs": [],
   "source": [
    "from sklearn.gaussian_process import GaussianProcessRegressor\n",
    "from sklearn.gaussian_process.kernels import (\n",
    "    RBF,\n",
    "    ConstantKernel,\n",
    "    ExpSineSquared,\n",
    "    PairwiseKernel,\n",
    "    RationalQuadratic,\n",
    "    WhiteKernel,\n",
    "    Matern,\n",
    ")"
   ]
  },
  {
   "cell_type": "code",
   "execution_count": null,
   "id": "7e057f65",
   "metadata": {},
   "outputs": [],
   "source": [
    "k1 = 30.0 * Matern(length_scale=10.0, nu=1.5)\n",
    "k2 = ConstantKernel(30) * ExpSineSquared(length_scale=1, periodicity=30)\n",
    "k3 = ConstantKernel(30) * ExpSineSquared(length_scale=1, periodicity=1)\n",
    "\n",
    "kernel = k1+k2+k3"
   ]
  },
  {
   "cell_type": "code",
   "execution_count": null,
   "id": "9438d517",
   "metadata": {},
   "outputs": [],
   "source": [
    "ds_result = gtsa.temporal.dask_apply_GPR(ds['band1'],\n",
    "                                         'time', \n",
    "                                         kwargs={'times':ds['band1'].time.values,\n",
    "                                                 'kernel': kernel,\n",
    "                                                 'prediction_time_series' : prediction_time_series}\n",
    "                                        ).compute()"
   ]
  },
  {
   "cell_type": "code",
   "execution_count": null,
   "id": "702ea969",
   "metadata": {},
   "outputs": [],
   "source": [
    "ds_result['mean_prediction'].isel(time=1).plot();"
   ]
  },
  {
   "cell_type": "code",
   "execution_count": null,
   "id": "46dd7c3d",
   "metadata": {},
   "outputs": [],
   "source": [
    "ds_result['mean_prediction'].hvplot(groupby='time', \n",
    "                                    width=800,\n",
    "                                    height=500,\n",
    "                                    widget_type='scrubber', \n",
    "                                    widget_location='bottom', \n",
    "                                    clim=(1800,1900),\n",
    "                                    cmap='viridis')"
   ]
  },
  {
   "cell_type": "code",
   "execution_count": null,
   "id": "2dff1fc2-96f2-484a-a40a-e013c714fd62",
   "metadata": {},
   "outputs": [],
   "source": []
  }
 ],
 "metadata": {
  "kernelspec": {
   "display_name": "Python [conda env:gtsa]",
   "language": "python",
   "name": "conda-env-gtsa-py"
  },
  "language_info": {
   "codemirror_mode": {
    "name": "ipython",
    "version": 3
   },
   "file_extension": ".py",
   "mimetype": "text/x-python",
   "name": "python",
   "nbconvert_exporter": "python",
   "pygments_lexer": "ipython3",
   "version": "3.11.4"
  }
 },
 "nbformat": 4,
 "nbformat_minor": 5
}
