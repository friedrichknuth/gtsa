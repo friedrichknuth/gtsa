{
 "cells": [
  {
   "cell_type": "code",
   "execution_count": null,
   "id": "f0d52f6d",
   "metadata": {},
   "outputs": [],
   "source": [
    "%load_ext autoreload\n",
    "%autoreload 2"
   ]
  },
  {
   "cell_type": "code",
   "execution_count": null,
   "id": "66dee0f0",
   "metadata": {},
   "outputs": [],
   "source": [
    "import gtsa\n",
    "\n",
    "from pathlib import Path\n",
    "import shutil\n",
    "import psutil\n",
    "import pandas as pd\n",
    "import hvplot.xarray"
   ]
  },
  {
   "cell_type": "markdown",
   "id": "849698c1",
   "metadata": {},
   "source": [
    "# Raster stacking\n",
    "\n",
    "Stacks single band rasters and chunks along the time dimension (on disk) for memory-efficient data retrieval.\n",
    "\n",
    "#### Prerequesites\n",
    "- Download DEM data with `00_download_dem_data.py` or `00_download_dem_data.ipynb`"
   ]
  },
  {
   "cell_type": "markdown",
   "id": "69b6c251",
   "metadata": {},
   "source": [
    "## Start dask cluster\n",
    "- For parallel read/write"
   ]
  },
  {
   "cell_type": "code",
   "execution_count": null,
   "id": "44f18a3a",
   "metadata": {},
   "outputs": [],
   "source": [
    "workers = psutil.cpu_count(logical=True)-1\n",
    "client = gtsa.io.dask_start_cluster(workers,\n",
    "                                    ip_addres='http://sunhado.ce.washington.edu', # replace with address if working on remote machine\n",
    "                                    port=':8787', # if occupies a different port will automatically be assigned\n",
    "                                   )"
   ]
  },
  {
   "cell_type": "markdown",
   "id": "578fa284",
   "metadata": {},
   "source": [
    "## Get DEM file paths and time stamps"
   ]
  },
  {
   "cell_type": "code",
   "execution_count": null,
   "id": "5b4afe4f",
   "metadata": {},
   "outputs": [],
   "source": [
    "data_dir = '../../data/dems/south-cascade/' # small test dataset\n",
    "# data_dir = '../../data/dems/mount-baker' # large dataset"
   ]
  },
  {
   "cell_type": "code",
   "execution_count": null,
   "id": "c06bc290",
   "metadata": {},
   "outputs": [],
   "source": [
    "dems = [x.as_posix() for x in sorted(Path(data_dir).glob('*.tif'))]\n",
    "date_strings = [x[1:-1] for x in gtsa.io.parse_timestamps(dems,date_string_pattern='_........_')]\n",
    "date_strings, dems = list(zip(*sorted(zip(date_strings, dems)))) # ensure chronological sorting \n",
    "date_times = [pd.to_datetime(x, format=\"%Y%m%d\") for x in date_strings]"
   ]
  },
  {
   "cell_type": "code",
   "execution_count": null,
   "id": "4e878a58",
   "metadata": {},
   "outputs": [],
   "source": [
    "ref_dem = dems[-1] # always last after chronological sorting\n",
    "ref_dem"
   ]
  },
  {
   "cell_type": "markdown",
   "id": "f41c57c2",
   "metadata": {},
   "source": [
    "## Reproject to reference DEM grid\n",
    "- Create a reprojected NetCDF file for each DEM\n",
    "- Loads all NetCDF files lazily"
   ]
  },
  {
   "cell_type": "code",
   "execution_count": null,
   "id": "51a9879a",
   "metadata": {},
   "outputs": [],
   "source": [
    "ds = gtsa.io.xr_stack_geotifs(dems,\n",
    "                              date_times,\n",
    "                              ref_dem,\n",
    "                              resampling=\"bilinear\",\n",
    "                              save_to_nc = True,\n",
    "                              nc_out_dir = Path(data_dir,'nc_files').as_posix(),\n",
    "                              overwrite = False)"
   ]
  },
  {
   "cell_type": "markdown",
   "id": "a5edf0f0",
   "metadata": {},
   "source": [
    "## Examine current chunk shape\n",
    "- Each time stamped DEM is a single chunk"
   ]
  },
  {
   "cell_type": "code",
   "execution_count": null,
   "id": "cc7ebba4",
   "metadata": {},
   "outputs": [],
   "source": [
    "ds['band1']"
   ]
  },
  {
   "cell_type": "code",
   "execution_count": null,
   "id": "f091add4",
   "metadata": {},
   "outputs": [],
   "source": [
    "ds['band1'].sel(time = ds.time.values[0])"
   ]
  },
  {
   "cell_type": "markdown",
   "id": "d840b10a",
   "metadata": {},
   "source": [
    "## Rechunk along time dimension\n",
    "- Creates temporary zarr file for efficient rechunking\n",
    "- Saves a zarr file chunked along full time dimension to disk\n",
    "- Significantly improves dask worker occupation and processing time for computations along the time dimension"
   ]
  },
  {
   "cell_type": "code",
   "execution_count": null,
   "id": "aa0954a9",
   "metadata": {},
   "outputs": [],
   "source": [
    "ds_zarr = gtsa.io.create_zarr_stack(ds,\n",
    "                                    output_directory = Path(data_dir,'stack').as_posix(),\n",
    "                                    variable_name='band1',\n",
    "                                    zarr_stack_file_name='stack.zarr',\n",
    "                                    overwrite = False,\n",
    "                                    cleanup=True)"
   ]
  },
  {
   "cell_type": "code",
   "execution_count": null,
   "id": "2030498e",
   "metadata": {},
   "outputs": [],
   "source": [
    "ds_zarr['band1']"
   ]
  },
  {
   "cell_type": "code",
   "execution_count": null,
   "id": "5b43bbea",
   "metadata": {},
   "outputs": [],
   "source": [
    "ds_zarr['band1'].sel(time = ds_zarr.time.values[0])"
   ]
  }
 ],
 "metadata": {
  "kernelspec": {
   "display_name": "Python [conda env:gtsa]",
   "language": "python",
   "name": "conda-env-gtsa-py"
  },
  "language_info": {
   "codemirror_mode": {
    "name": "ipython",
    "version": 3
   },
   "file_extension": ".py",
   "mimetype": "text/x-python",
   "name": "python",
   "nbconvert_exporter": "python",
   "pygments_lexer": "ipython3",
   "version": "3.11.4"
  }
 },
 "nbformat": 4,
 "nbformat_minor": 5
}
