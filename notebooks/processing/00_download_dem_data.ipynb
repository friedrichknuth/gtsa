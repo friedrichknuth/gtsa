{
 "cells": [
  {
   "cell_type": "code",
   "execution_count": null,
   "id": "25883e73",
   "metadata": {},
   "outputs": [],
   "source": [
    "%load_ext autoreload\n",
    "%autoreload 2"
   ]
  },
  {
   "cell_type": "code",
   "execution_count": null,
   "id": "db4acd00",
   "metadata": {},
   "outputs": [],
   "source": [
    "import gtsa"
   ]
  },
  {
   "cell_type": "markdown",
   "id": "0d77d1d8-fa48-4681-a3ed-9b5e9f7b3f6e",
   "metadata": {},
   "source": [
    "# Download processing example data\n",
    "\n",
    "Downloads historical Digital Elevation Models (DEMs) for Mount Baker and South Cascade Glacier. These data will be used in subsequent notebooks for demonstration purposes."
   ]
  },
  {
   "cell_type": "code",
   "execution_count": null,
   "id": "fba78da0",
   "metadata": {},
   "outputs": [],
   "source": [
    "output_directory = '../../data'\n",
    "product = 'dem'\n",
    "include_refdem = True\n",
    "overwrite = False"
   ]
  },
  {
   "cell_type": "code",
   "execution_count": null,
   "id": "1992139a",
   "metadata": {},
   "outputs": [],
   "source": [
    "gtsa.dataquery.download_historical_data(site = 'mount-baker',\n",
    "                                         product = product,\n",
    "                                         output_directory = output_directory,\n",
    "                                         include_refdem = include_refdem,\n",
    "                                         overwrite = overwrite,\n",
    "                                        )"
   ]
  },
  {
   "cell_type": "code",
   "execution_count": null,
   "id": "a41e03b6",
   "metadata": {},
   "outputs": [],
   "source": [
    "gtsa.dataquery.download_historical_data(site = 'south-cascade',\n",
    "                                         product = product,\n",
    "                                         output_directory = output_directory,\n",
    "                                         include_refdem = include_refdem,\n",
    "                                         overwrite = overwrite,\n",
    "                                        )"
   ]
  }
 ],
 "metadata": {
  "kernelspec": {
   "display_name": "Python [conda env:gtsa]",
   "language": "python",
   "name": "conda-env-gtsa-py"
  },
  "language_info": {
   "codemirror_mode": {
    "name": "ipython",
    "version": 3
   },
   "file_extension": ".py",
   "mimetype": "text/x-python",
   "name": "python",
   "nbconvert_exporter": "python",
   "pygments_lexer": "ipython3",
   "version": "3.11.4"
  }
 },
 "nbformat": 4,
 "nbformat_minor": 5
}
