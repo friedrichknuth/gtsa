{
 "cells": [
  {
   "cell_type": "code",
   "execution_count": null,
   "id": "25883e73",
   "metadata": {},
   "outputs": [],
   "source": [
    "%load_ext autoreload\n",
    "%autoreload 2"
   ]
  },
  {
   "cell_type": "code",
   "execution_count": null,
   "id": "db4acd00",
   "metadata": {},
   "outputs": [],
   "source": [
    "import gtsa"
   ]
  },
  {
   "cell_type": "code",
   "execution_count": null,
   "id": "fba78da0",
   "metadata": {},
   "outputs": [],
   "source": [
    "output_directory = '../test_data'\n",
    "include_refdem = True\n",
    "overwrite = True"
   ]
  },
  {
   "cell_type": "code",
   "execution_count": null,
   "id": "1992139a",
   "metadata": {},
   "outputs": [],
   "source": [
    "gtsa.dataquery.download_hi_res_test_data(site = 'mount-baker',\n",
    "                                         output_directory = output_directory,\n",
    "                                         include_refdem = include_refdem,\n",
    "                                         overwrite = overwrite,\n",
    "                                        )"
   ]
  },
  {
   "cell_type": "code",
   "execution_count": null,
   "id": "a41e03b6",
   "metadata": {},
   "outputs": [],
   "source": [
    "gtsa.dataquery.download_hi_res_test_data(site = 'south-cascade',\n",
    "                                         output_directory = output_directory,\n",
    "                                         include_refdem = include_refdem,\n",
    "                                         overwrite = overwrite,\n",
    "                                        )"
   ]
  }
 ],
 "metadata": {
  "kernelspec": {
   "display_name": "Python [conda env:gtsa]",
   "language": "python",
   "name": "conda-env-gtsa-py"
  },
  "language_info": {
   "codemirror_mode": {
    "name": "ipython",
    "version": 3
   },
   "file_extension": ".py",
   "mimetype": "text/x-python",
   "name": "python",
   "nbconvert_exporter": "python",
   "pygments_lexer": "ipython3",
   "version": "3.11.3"
  }
 },
 "nbformat": 4,
 "nbformat_minor": 5
}
