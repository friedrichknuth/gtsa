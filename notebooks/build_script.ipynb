{
 "cells": [
  {
   "cell_type": "code",
   "execution_count": 1,
   "id": "ec85c9b2",
   "metadata": {},
   "outputs": [],
   "source": [
    "import gtsa\n",
    "\n",
    "from gtsa import temporal, plotting, utils\n",
    "\n",
    "import os\n",
    "import glob\n",
    "import numpy as np\n",
    "import pandas as pd\n",
    "import datetime\n",
    "import matplotlib.pyplot as plt\n",
    "\n",
    "\n",
    "data_dir    = gtsa.pathlib.Path('/mnt/storage/knuth/sites/scg/hsfm_data')\n",
    "\n",
    "dems_fn       = sorted(data_dir.glob('dem*.tif'))\n",
    "glacier_fn     = data_dir.joinpath('rgi_glacier_oultine.geojson')\n",
    "reference_dem  = data_dir.joinpath('reference_dem.tif')\n",
    "\n",
    "date_times = [d for d in gtsa.io.parse_timestamps(dems_fn)]\n",
    "dates = [d.date() for d in date_times]\n",
    "\n",
    "\n",
    "ds = gtsa.io.xr_stack_geotifs(dems_fn,\n",
    "                              date_times,\n",
    "                              reference_dem,\n",
    "                              resampling=\"bilinear\",\n",
    "                              save_to_nc = False)\n",
    "\n",
    "ma_stack = gtsa.io.np.ma.masked_invalid(ds['band1'].values)\n",
    "\n",
    "X = gtsa.temporal.create_prediction_timeseries(start_date = dates[0].strftime(\"%Y-%m-%d\"),\n",
    "                                               end_date = dates[-1].strftime(\"%Y-%m-%d\"),\n",
    "                                               dt ='M')\n",
    "\n",
    "X_train = np.ma.array([utils.date_time_to_decyear(i) for i in date_times]).data\n",
    "test_stack = ma_stack\n",
    "\n",
    "valid_data, valid_mask_2D = temporal.mask_low_count_pixels(test_stack, n_thresh = 3)\n",
    "\n",
    "results = temporal.GPR_run_parallel(X_train, valid_data, X, glacier_kernel)\n",
    "\n",
    "prediction_stack = temporal.GPR_reshape_parallel_results(results, test_stack, valid_mask_2D)\n",
    "\n",
    "np.savez_compressed('prediction_stack.npz', \n",
    "                    data=prediction_stack.data, \n",
    "                    mask=prediction_stack.mask)\n",
    "\n",
    "with np.load('prediction_stack.npz') as npz:\n",
    "    arr = np.ma.MaskedArray(**npz)"
   ]
  },
  {
   "cell_type": "markdown",
   "id": "66bbc474",
   "metadata": {},
   "source": [
    "- create zarr stack\n",
    "- select test window\n",
    "- apply GPR threaded\n",
    "- use dask to apply GPR\n",
    "- compare processing time\n",
    "- use dask to apply GPR to full time series\n",
    "\n",
    "- clip to glacier extent to reduce processing time"
   ]
  },
  {
   "cell_type": "code",
   "execution_count": null,
   "id": "e664107c",
   "metadata": {},
   "outputs": [],
   "source": []
  },
  {
   "cell_type": "code",
   "execution_count": null,
   "id": "1977f29f",
   "metadata": {},
   "outputs": [],
   "source": []
  }
 ],
 "metadata": {
  "kernelspec": {
   "display_name": "Python [conda env:gtsa]",
   "language": "python",
   "name": "conda-env-gtsa-py"
  },
  "language_info": {
   "codemirror_mode": {
    "name": "ipython",
    "version": 3
   },
   "file_extension": ".py",
   "mimetype": "text/x-python",
   "name": "python",
   "nbconvert_exporter": "python",
   "pygments_lexer": "ipython3",
   "version": "3.10.5"
  }
 },
 "nbformat": 4,
 "nbformat_minor": 5
}
