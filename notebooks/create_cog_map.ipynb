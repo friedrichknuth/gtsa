{
 "cells": [
  {
   "cell_type": "code",
   "execution_count": 1,
   "id": "3cbf315f",
   "metadata": {},
   "outputs": [],
   "source": [
    "%load_ext autoreload\n",
    "%autoreload 2"
   ]
  },
  {
   "cell_type": "code",
   "execution_count": 2,
   "id": "0a11ee4b",
   "metadata": {},
   "outputs": [],
   "source": [
    "import gtsa"
   ]
  },
  {
   "cell_type": "markdown",
   "id": "a58e583b",
   "metadata": {},
   "source": [
    "### Plot a single COG"
   ]
  },
  {
   "cell_type": "code",
   "execution_count": 3,
   "id": "a070d8c0",
   "metadata": {},
   "outputs": [],
   "source": [
    "cog_url = 'http://conus-historicals.s3.amazonaws.com/rainier/orthos/ortho_1955-09-15_EE_reproj_COG.tif'"
   ]
  },
  {
   "cell_type": "code",
   "execution_count": 4,
   "id": "73ce0a7f",
   "metadata": {},
   "outputs": [],
   "source": [
    "m = gtsa.plotting.plot_cog(cog_url   = cog_url,\n",
    "                       zoom_start = 10)\n",
    "# m"
   ]
  },
  {
   "cell_type": "code",
   "execution_count": null,
   "id": "cb1cefdb",
   "metadata": {},
   "outputs": [],
   "source": [
    "# m.save('mount_rainier_1955-09-15.html')"
   ]
  },
  {
   "cell_type": "markdown",
   "id": "f8738564",
   "metadata": {},
   "source": [
    "### Plot multiple cogs"
   ]
  },
  {
   "cell_type": "code",
   "execution_count": 21,
   "id": "8d63f866",
   "metadata": {},
   "outputs": [],
   "source": [
    "s3_bucket_name = 'conus-historicals'\n",
    "folder_path = 'rainier/orthos'"
   ]
  },
  {
   "cell_type": "code",
   "execution_count": 22,
   "id": "61fff947",
   "metadata": {},
   "outputs": [],
   "source": [
    "cog_urls = gtsa.io.parse_urls_from_S3_bucket(s3_bucket_name,\n",
    "                                             folder = folder_path,\n",
    "                                             aws_server_url = 's3.amazonaws.com')\n",
    "\n",
    "dates = gtsa.io.parse_timestamps(cog_urls,\n",
    "                                 date_string_pattern='....-..-..')"
   ]
  },
  {
   "cell_type": "code",
   "execution_count": 25,
   "id": "d6ecd1b6",
   "metadata": {},
   "outputs": [
    {
     "name": "stdout",
     "output_type": "stream",
     "text": [
      "map center: -121.7603 46.8523\n"
     ]
    }
   ],
   "source": [
    "map_center_lon = -121.7603\n",
    "map_center_lat = 46.8523\n",
    "\n",
    "m = gtsa.plotting.plot_cogs(cog_urls,\n",
    "                        dates,\n",
    "                        map_center_lon      = map_center_lon,\n",
    "                        map_center_lat      = map_center_lat,\n",
    "                        zoom_start          = 11,\n",
    "                        overview_cog_index  = 1,\n",
    "                        print_info          = True,\n",
    "                       )\n",
    "# m"
   ]
  },
  {
   "cell_type": "code",
   "execution_count": 10,
   "id": "dbd8f720",
   "metadata": {},
   "outputs": [],
   "source": [
    "# m.save('mount_rainier_all.html')"
   ]
  },
  {
   "cell_type": "markdown",
   "id": "7ce040b7",
   "metadata": {},
   "source": [
    "### Plot multiple sites"
   ]
  },
  {
   "cell_type": "code",
   "execution_count": 12,
   "id": "8bb3868d",
   "metadata": {},
   "outputs": [],
   "source": [
    "s3_bucket_name = 'conus-historicals'"
   ]
  },
  {
   "cell_type": "code",
   "execution_count": 88,
   "id": "c1f13a94",
   "metadata": {},
   "outputs": [],
   "source": [
    "sites = ['rainier','baker','scg']\n",
    "folders = [gtsa.io.Path(s, 'orthos').as_posix() for s in sites]\n",
    "\n",
    "site_marker_names = ['Mount Rainier','Mount Baker', 'South Cascade']\n",
    "site_marker_coords = [(46.8523, -121.7603),(48.7767, -121.8144), (48.3717, -121.0660)]\n",
    "cog_overview_indices = [1,0,0]\n",
    "\n",
    "map_center = (46.8523, -121.7603)"
   ]
  },
  {
   "cell_type": "code",
   "execution_count": 89,
   "id": "721cbbe0",
   "metadata": {},
   "outputs": [],
   "source": [
    "payload = {}\n",
    "payload['map_center'] = map_center\n",
    "payload['sites'] = {}\n",
    "\n",
    "for i, site in enumerate(sites):\n",
    "    payload['sites'][site] = {'marker_name':site_marker_names[i],\n",
    "                              'marker_coords': site_marker_coords[i],\n",
    "                     'overview_index': cog_overview_indices[i],\n",
    "                     'cog_urls': gtsa.io.parse_urls_from_S3_bucket(s3_bucket_name,\n",
    "                                                                   folder = folders[i],\n",
    "                                                                   aws_server_url = 's3.amazonaws.com'),\n",
    "                     \n",
    "                    }\n",
    "    payload['sites'][site]['dates'] = gtsa.io.parse_timestamps(payload['sites'][site]['cog_urls'])"
   ]
  },
  {
   "cell_type": "code",
   "execution_count": 99,
   "id": "680bc38f",
   "metadata": {},
   "outputs": [],
   "source": [
    "# m = gtsa.plotting.plot_cogs_sites(payload\n",
    "#                                   zoom_start           = 6,\n",
    "#                                   print_info          = True,\n",
    "#                              )"
   ]
  },
  {
   "cell_type": "code",
   "execution_count": null,
   "id": "13599b29",
   "metadata": {},
   "outputs": [],
   "source": [
    "m.save('conus_sites.html')"
   ]
  },
  {
   "cell_type": "markdown",
   "id": "bf9dd639",
   "metadata": {},
   "source": [
    "Example https://staff.washington.edu/knuth/downloads/conus_sites.html"
   ]
  },
  {
   "cell_type": "markdown",
   "id": "7de3da35",
   "metadata": {},
   "source": [
    "### Known issues\n",
    "- collapsable navigation menu by site would be preferred but is not natively supported by folium\n",
    "- duplicate dates as COG names in the drop down will overwrite. stopgap solution is to prefix sith the site id\n",
    "- the All Sites legend entry is a stopgap solution to only show a single COG to start\n",
    "- if COGs are not added to a featuregroup that has show = False, they get burned in to the map somehow, which appears to be a bug"
   ]
  }
 ],
 "metadata": {
  "kernelspec": {
   "display_name": "Python [conda env:gtsa] *",
   "language": "python",
   "name": "conda-env-gtsa-py"
  },
  "language_info": {
   "codemirror_mode": {
    "name": "ipython",
    "version": 3
   },
   "file_extension": ".py",
   "mimetype": "text/x-python",
   "name": "python",
   "nbconvert_exporter": "python",
   "pygments_lexer": "ipython3",
   "version": "3.11.4"
  }
 },
 "nbformat": 4,
 "nbformat_minor": 5
}
