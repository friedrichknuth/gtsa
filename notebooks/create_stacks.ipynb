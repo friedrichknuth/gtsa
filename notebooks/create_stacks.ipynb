{
 "cells": [
  {
   "cell_type": "code",
   "execution_count": 1,
   "id": "f0d52f6d",
   "metadata": {},
   "outputs": [],
   "source": [
    "%load_ext autoreload\n",
    "%autoreload 2"
   ]
  },
  {
   "cell_type": "code",
   "execution_count": 2,
   "id": "66dee0f0",
   "metadata": {},
   "outputs": [],
   "source": [
    "import gtsa\n",
    "\n",
    "from pathlib import Path\n",
    "import shutil\n",
    "import psutil\n",
    "import pandas as pd"
   ]
  },
  {
   "cell_type": "code",
   "execution_count": 3,
   "id": "44f18a3a",
   "metadata": {},
   "outputs": [
    {
     "name": "stdout",
     "output_type": "stream",
     "text": [
      "\n",
      "Dask dashboard at: http://127.0.0.1:8787/status\n",
      "Workers: 9\n",
      "Threads per worker: 1 \n",
      "\n"
     ]
    }
   ],
   "source": [
    "workers = psutil.cpu_count(logical=True)-1\n",
    "client = gtsa.io.dask_start_cluster(workers,\n",
    "                                    port=':8787')"
   ]
  },
  {
   "cell_type": "markdown",
   "id": "47aef4f4",
   "metadata": {},
   "source": [
    "### Download test data"
   ]
  },
  {
   "cell_type": "code",
   "execution_count": 4,
   "id": "35b49706",
   "metadata": {},
   "outputs": [],
   "source": [
    "# gtsa.dataquery.download_hi_res_test_data(site = 'south-cascade',\n",
    "#                                          output_directory = '../test_data',\n",
    "#                                          include_refdem = True,\n",
    "#                                          overwrite = True,\n",
    "#                                         )  "
   ]
  },
  {
   "cell_type": "code",
   "execution_count": 5,
   "id": "0d927b31",
   "metadata": {},
   "outputs": [
    {
     "name": "stdout",
     "output_type": "stream",
     "text": [
      "../test_data/south-cascade_1m_dems/WV_south-cascade_20151014_1m_dem.tif\r\n",
      "../test_data/south-cascade_1m_dems/hsfm_NAGAP_south-cascade_19670921_1m_dem.tif\r\n",
      "../test_data/south-cascade_1m_dems/hsfm_NAGAP_south-cascade_19700929_1m_dem.tif\r\n",
      "../test_data/south-cascade_1m_dems/hsfm_NAGAP_south-cascade_19740810_1m_dem.tif\r\n",
      "../test_data/south-cascade_1m_dems/hsfm_NAGAP_south-cascade_19771003_1m_dem.tif\r\n",
      "../test_data/south-cascade_1m_dems/hsfm_NAGAP_south-cascade_19790820_1m_dem.tif\r\n",
      "../test_data/south-cascade_1m_dems/hsfm_NAGAP_south-cascade_19791006_1m_dem.tif\r\n",
      "../test_data/south-cascade_1m_dems/hsfm_NAGAP_south-cascade_19840814_1m_dem.tif\r\n",
      "../test_data/south-cascade_1m_dems/hsfm_NAGAP_south-cascade_19860905_1m_dem.tif\r\n",
      "../test_data/south-cascade_1m_dems/hsfm_NAGAP_south-cascade_19870821_1m_dem.tif\r\n",
      "../test_data/south-cascade_1m_dems/hsfm_NAGAP_south-cascade_19900905_1m_dem.tif\r\n",
      "../test_data/south-cascade_1m_dems/hsfm_NAGAP_south-cascade_19910909_1m_dem.tif\r\n",
      "../test_data/south-cascade_1m_dems/hsfm_NAGAP_south-cascade_19920728_1m_dem.tif\r\n",
      "../test_data/south-cascade_1m_dems/hsfm_NAGAP_south-cascade_19920915_1m_dem.tif\r\n",
      "../test_data/south-cascade_1m_dems/hsfm_NAGAP_south-cascade_19920918_1m_dem.tif\r\n",
      "../test_data/south-cascade_1m_dems/hsfm_NAGAP_south-cascade_19921006_1m_dem.tif\r\n",
      "../test_data/south-cascade_1m_dems/hsfm_NAGAP_south-cascade_19940906_1m_dem.tif\r\n",
      "../test_data/south-cascade_1m_dems/hsfm_NAGAP_south-cascade_19960910_1m_dem.tif\r\n",
      "../test_data/south-cascade_1m_dems/hsfm_NAGAP_south-cascade_19970923_1m_dem.tif\r\n"
     ]
    }
   ],
   "source": [
    "! ls ../test_data/south-cascade_1m_dems/*.tif"
   ]
  },
  {
   "cell_type": "markdown",
   "id": "578fa284",
   "metadata": {},
   "source": [
    "### Parse file paths and time stamps"
   ]
  },
  {
   "cell_type": "code",
   "execution_count": 6,
   "id": "5b4afe4f",
   "metadata": {},
   "outputs": [],
   "source": [
    "data_dir = '../test_data/south-cascade_1m_dems/'"
   ]
  },
  {
   "cell_type": "code",
   "execution_count": 7,
   "id": "c06bc290",
   "metadata": {},
   "outputs": [],
   "source": [
    "dems = [x.as_posix() for x in sorted(Path(data_dir).glob('*.tif'))]\n",
    "date_strings = [x[1:-1] for x in gtsa.io.parse_timestamps(dems,\n",
    "                                                          date_string_pattern='_........_')]\n",
    "# ensure chronological sorting \n",
    "date_strings, dems = list(zip(*sorted(zip(date_strings, dems))))\n",
    "date_times = [pd.to_datetime(x, format=\"%Y%m%d\") for x in date_strings]"
   ]
  },
  {
   "cell_type": "code",
   "execution_count": 8,
   "id": "1f60c812",
   "metadata": {},
   "outputs": [
    {
     "data": {
      "text/plain": [
       "(('../test_data/south-cascade_1m_dems/hsfm_NAGAP_south-cascade_19670921_1m_dem.tif',\n",
       "  '../test_data/south-cascade_1m_dems/hsfm_NAGAP_south-cascade_19700929_1m_dem.tif',\n",
       "  '../test_data/south-cascade_1m_dems/hsfm_NAGAP_south-cascade_19740810_1m_dem.tif',\n",
       "  '../test_data/south-cascade_1m_dems/hsfm_NAGAP_south-cascade_19771003_1m_dem.tif',\n",
       "  '../test_data/south-cascade_1m_dems/hsfm_NAGAP_south-cascade_19790820_1m_dem.tif',\n",
       "  '../test_data/south-cascade_1m_dems/hsfm_NAGAP_south-cascade_19791006_1m_dem.tif',\n",
       "  '../test_data/south-cascade_1m_dems/hsfm_NAGAP_south-cascade_19840814_1m_dem.tif',\n",
       "  '../test_data/south-cascade_1m_dems/hsfm_NAGAP_south-cascade_19860905_1m_dem.tif',\n",
       "  '../test_data/south-cascade_1m_dems/hsfm_NAGAP_south-cascade_19870821_1m_dem.tif',\n",
       "  '../test_data/south-cascade_1m_dems/hsfm_NAGAP_south-cascade_19900905_1m_dem.tif',\n",
       "  '../test_data/south-cascade_1m_dems/hsfm_NAGAP_south-cascade_19910909_1m_dem.tif',\n",
       "  '../test_data/south-cascade_1m_dems/hsfm_NAGAP_south-cascade_19920728_1m_dem.tif',\n",
       "  '../test_data/south-cascade_1m_dems/hsfm_NAGAP_south-cascade_19920915_1m_dem.tif',\n",
       "  '../test_data/south-cascade_1m_dems/hsfm_NAGAP_south-cascade_19920918_1m_dem.tif',\n",
       "  '../test_data/south-cascade_1m_dems/hsfm_NAGAP_south-cascade_19921006_1m_dem.tif',\n",
       "  '../test_data/south-cascade_1m_dems/hsfm_NAGAP_south-cascade_19940906_1m_dem.tif',\n",
       "  '../test_data/south-cascade_1m_dems/hsfm_NAGAP_south-cascade_19960910_1m_dem.tif',\n",
       "  '../test_data/south-cascade_1m_dems/hsfm_NAGAP_south-cascade_19970923_1m_dem.tif',\n",
       "  '../test_data/south-cascade_1m_dems/WV_south-cascade_20151014_1m_dem.tif'),\n",
       " [Timestamp('1967-09-21 00:00:00'),\n",
       "  Timestamp('1970-09-29 00:00:00'),\n",
       "  Timestamp('1974-08-10 00:00:00'),\n",
       "  Timestamp('1977-10-03 00:00:00'),\n",
       "  Timestamp('1979-08-20 00:00:00'),\n",
       "  Timestamp('1979-10-06 00:00:00'),\n",
       "  Timestamp('1984-08-14 00:00:00'),\n",
       "  Timestamp('1986-09-05 00:00:00'),\n",
       "  Timestamp('1987-08-21 00:00:00'),\n",
       "  Timestamp('1990-09-05 00:00:00'),\n",
       "  Timestamp('1991-09-09 00:00:00'),\n",
       "  Timestamp('1992-07-28 00:00:00'),\n",
       "  Timestamp('1992-09-15 00:00:00'),\n",
       "  Timestamp('1992-09-18 00:00:00'),\n",
       "  Timestamp('1992-10-06 00:00:00'),\n",
       "  Timestamp('1994-09-06 00:00:00'),\n",
       "  Timestamp('1996-09-10 00:00:00'),\n",
       "  Timestamp('1997-09-23 00:00:00'),\n",
       "  Timestamp('2015-10-14 00:00:00')])"
      ]
     },
     "execution_count": 8,
     "metadata": {},
     "output_type": "execute_result"
    }
   ],
   "source": [
    "dems, date_times"
   ]
  },
  {
   "cell_type": "code",
   "execution_count": 9,
   "id": "4e878a58",
   "metadata": {},
   "outputs": [
    {
     "data": {
      "text/plain": [
       "'../test_data/south-cascade_1m_dems/WV_south-cascade_20151014_1m_dem.tif'"
      ]
     },
     "execution_count": 9,
     "metadata": {},
     "output_type": "execute_result"
    }
   ],
   "source": [
    "ref_dem = dems[-1]\n",
    "ref_dem"
   ]
  },
  {
   "cell_type": "markdown",
   "id": "f41c57c2",
   "metadata": {},
   "source": [
    "### Reproject to reference DEM grid\n",
    "- Create a reprojected NetCDF file for each DEM\n",
    "- Loads all NetCDF files lazily"
   ]
  },
  {
   "cell_type": "code",
   "execution_count": 10,
   "id": "51a9879a",
   "metadata": {},
   "outputs": [
    {
     "name": "stdout",
     "output_type": "stream",
     "text": [
      "Saved .nc files in ../test_data/south-cascade_1m_dems/nc_files\n"
     ]
    }
   ],
   "source": [
    "ds = gtsa.io.xr_stack_geotifs(dems,\n",
    "                              date_times,\n",
    "                              ref_dem,\n",
    "                              resampling=\"bilinear\",\n",
    "                              save_to_nc = True,\n",
    "                              nc_out_dir = Path(data_dir,'nc_files').as_posix(),\n",
    "                              overwrite = False)"
   ]
  },
  {
   "cell_type": "markdown",
   "id": "a5edf0f0",
   "metadata": {},
   "source": [
    "### Examine current chunk shape\n",
    "- Each time stamped DEM is a single chunk"
   ]
  },
  {
   "cell_type": "code",
   "execution_count": 17,
   "id": "cc7ebba4",
   "metadata": {},
   "outputs": [],
   "source": [
    "ds['band1']"
   ]
  },
  {
   "cell_type": "code",
   "execution_count": 16,
   "id": "f091add4",
   "metadata": {},
   "outputs": [],
   "source": [
    "ds['band1'].sel(time = ds.time.values[0])"
   ]
  },
  {
   "cell_type": "markdown",
   "id": "d840b10a",
   "metadata": {},
   "source": [
    "### Rechunk along time dimension\n",
    "- Creates temporary zarr file for efficient rechunking\n",
    "- Saves a zarr file chunked along full time dimension to disk\n",
    "- Significantly improves dask worker occupation and processing time for computations along the time dimension"
   ]
  },
  {
   "cell_type": "code",
   "execution_count": 13,
   "id": "aa0954a9",
   "metadata": {},
   "outputs": [
    {
     "name": "stdout",
     "output_type": "stream",
     "text": [
      "Creating temporary zarr stack\n",
      "/\n",
      " ├── band1 (19, 21418, 22940) float32\n",
      " ├── time (19,) int64\n",
      " ├── x (22940,) float64\n",
      " └── y (21418,) float64\n",
      "Name               : /band1\n",
      "Type               : zarr.core.Array\n",
      "Data type          : float32\n",
      "Shape              : (19, 21418, 22940)\n",
      "Chunk shape        : (1, 21418, 22940)\n",
      "Order              : C\n",
      "Read-only          : False\n",
      "Compressor         : Blosc(cname='lz4', clevel=5, shuffle=SHUFFLE, blocksize=0)\n",
      "Store type         : zarr.storage.DirectoryStore\n",
      "No. bytes          : 37340997920 (34.8G)\n",
      "No. bytes stored   : 1595321965 (1.5G)\n",
      "Storage ratio      : 23.4\n",
      "Chunks initialized : 19/19\n",
      "\n",
      "Rechunking temporary zarr stack and saving as\n",
      "../test_data/south-cascade_1m_dems/stack/stack.zarr\n",
      "\n",
      "Rechunked zarr file info\n",
      "/\n",
      " ├── band1 (19, 21418, 22940) float32\n",
      " ├── time (19,) int64\n",
      " ├── x (22940,) float64\n",
      " └── y (21418,) float64\n",
      "Name               : /band1\n",
      "Type               : zarr.core.Array\n",
      "Data type          : float32\n",
      "Shape              : (19, 21418, 22940)\n",
      "Chunk shape        : (19, 1128, 1208)\n",
      "Order              : C\n",
      "Read-only          : False\n",
      "Compressor         : Blosc(cname='lz4', clevel=5, shuffle=SHUFFLE, blocksize=0)\n",
      "Store type         : zarr.storage.DirectoryStore\n",
      "No. bytes          : 37340997920 (34.8G)\n",
      "No. bytes stored   : 1576356800 (1.5G)\n",
      "Storage ratio      : 23.7\n",
      "Chunks initialized : 361/361\n",
      "\n",
      "\n",
      "Determining optimal chunk size for processing\n",
      "Chunk shape: (19,157,168)\n",
      "Chunk size: 2004576 (2.004576 G)\n"
     ]
    }
   ],
   "source": [
    "ds_zarr = gtsa.io.create_zarr_stack(ds,\n",
    "                                    output_directory = Path(data_dir,'stack').as_posix(),\n",
    "                                    overwrite = False)"
   ]
  },
  {
   "cell_type": "code",
   "execution_count": 18,
   "id": "2030498e",
   "metadata": {},
   "outputs": [],
   "source": [
    "ds_zarr['band1']"
   ]
  },
  {
   "cell_type": "code",
   "execution_count": 19,
   "id": "5b43bbea",
   "metadata": {},
   "outputs": [],
   "source": [
    "ds_zarr['band1'].sel(time = ds_zarr.time.values[0])"
   ]
  }
 ],
 "metadata": {
  "kernelspec": {
   "display_name": "Python [conda env:gtsa] *",
   "language": "python",
   "name": "conda-env-gtsa-py"
  },
  "language_info": {
   "codemirror_mode": {
    "name": "ipython",
    "version": 3
   },
   "file_extension": ".py",
   "mimetype": "text/x-python",
   "name": "python",
   "nbconvert_exporter": "python",
   "pygments_lexer": "ipython3",
   "version": "3.11.4"
  }
 },
 "nbformat": 4,
 "nbformat_minor": 5
}
