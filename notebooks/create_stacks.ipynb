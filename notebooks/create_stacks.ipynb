{
 "cells": [
  {
   "cell_type": "code",
   "execution_count": null,
   "id": "f0d52f6d",
   "metadata": {},
   "outputs": [],
   "source": [
    "%load_ext autoreload\n",
    "%autoreload 2"
   ]
  },
  {
   "cell_type": "code",
   "execution_count": null,
   "id": "66dee0f0",
   "metadata": {},
   "outputs": [],
   "source": [
    "import gtsa\n",
    "import pandas as pd"
   ]
  },
  {
   "cell_type": "markdown",
   "id": "307db2ef",
   "metadata": {},
   "source": [
    "### Lazy load co-registered DEMs from S3"
   ]
  },
  {
   "cell_type": "code",
   "execution_count": null,
   "id": "aae489cb",
   "metadata": {},
   "outputs": [],
   "source": [
    "s3_bucket_name = 'petrichor'\n",
    "folder = 'baker/dems/'"
   ]
  },
  {
   "cell_type": "code",
   "execution_count": null,
   "id": "16608a3d",
   "metadata": {},
   "outputs": [],
   "source": [
    "cog_urls = gtsa.io.parse_urls_from_S3_bucket(s3_bucket_name,\n",
    "                                             aws_server_url = 's3.us-west-2.amazonaws.com',\n",
    "                                             folder = folder)\n",
    "\n",
    "date_strings = gtsa.io.parse_timestamps(cog_urls,\n",
    "                                        date_string_pattern='....-..-..')\n",
    "\n",
    "date_times = [pd.to_datetime(x) for x in date_strings]"
   ]
  },
  {
   "cell_type": "code",
   "execution_count": null,
   "id": "ae4aa6ae",
   "metadata": {},
   "outputs": [],
   "source": [
    "len(cog_urls) == len(date_times)"
   ]
  },
  {
   "cell_type": "code",
   "execution_count": null,
   "id": "93e7cf3b",
   "metadata": {},
   "outputs": [],
   "source": [
    "ref_dem = cog_urls[-1]\n",
    "ref_dem"
   ]
  },
  {
   "cell_type": "code",
   "execution_count": null,
   "id": "75de8686",
   "metadata": {},
   "outputs": [],
   "source": [
    "ds = gtsa.io.xr_stack_geotifs(cog_urls,\n",
    "                              date_times,\n",
    "                              ref_dem,\n",
    "                              resampling=\"bilinear\",\n",
    "                              save_to_nc = True,\n",
    "                              nc_out_dir = '/mnt/working/knuth/sw/repos/gtsa/scripts/stacks/baker/nc_files',\n",
    "                              overwrite = False)"
   ]
  },
  {
   "cell_type": "code",
   "execution_count": null,
   "id": "91693c22",
   "metadata": {},
   "outputs": [],
   "source": [
    "ds"
   ]
  },
  {
   "cell_type": "code",
   "execution_count": null,
   "id": "74e17fcf",
   "metadata": {},
   "outputs": [],
   "source": [
    "ds['band1'].data = ds['band1'].data.rechunk({0:'auto', 1:'auto', 2:'auto'}, \n",
    "                                                    block_size_limit=1e8, \n",
    "                                                    balance=True)"
   ]
  },
  {
   "cell_type": "code",
   "execution_count": null,
   "id": "535e5e04",
   "metadata": {},
   "outputs": [],
   "source": [
    "ds"
   ]
  },
  {
   "cell_type": "code",
   "execution_count": null,
   "id": "b04afad2",
   "metadata": {},
   "outputs": [],
   "source": [
    "ds['band1'].sel(time = ds.time.values[0])"
   ]
  },
  {
   "cell_type": "markdown",
   "id": "57f92a39",
   "metadata": {},
   "source": [
    "### Write to Zarr file"
   ]
  },
  {
   "cell_type": "code",
   "execution_count": null,
   "id": "be4b0d45",
   "metadata": {},
   "outputs": [],
   "source": [
    "ds_zarr = gtsa.io.create_zarr_stack(ds,\n",
    "                                    output_directory = './zarr_stack_rainier',\n",
    "                                    overwrite = False)"
   ]
  },
  {
   "cell_type": "code",
   "execution_count": null,
   "id": "86ac8068",
   "metadata": {},
   "outputs": [],
   "source": [
    "ds_zarr"
   ]
  },
  {
   "cell_type": "code",
   "execution_count": null,
   "id": "4363ad42",
   "metadata": {},
   "outputs": [],
   "source": [
    "ds_zarr['band1'].sel(time = ds_zarr.time.values[0])"
   ]
  }
 ],
 "metadata": {
  "kernelspec": {
   "display_name": "Python [conda env:gtsa]",
   "language": "python",
   "name": "conda-env-gtsa-py"
  },
  "language_info": {
   "codemirror_mode": {
    "name": "ipython",
    "version": 3
   },
   "file_extension": ".py",
   "mimetype": "text/x-python",
   "name": "python",
   "nbconvert_exporter": "python",
   "pygments_lexer": "ipython3",
   "version": "3.11.3"
  }
 },
 "nbformat": 4,
 "nbformat_minor": 5
}
