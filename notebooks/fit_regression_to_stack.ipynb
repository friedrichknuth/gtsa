{
 "cells": [
  {
   "cell_type": "code",
   "execution_count": 9,
   "id": "f0d52f6d",
   "metadata": {},
   "outputs": [],
   "source": [
    "%load_ext autoreload\n",
    "%autoreload 2"
   ]
  },
  {
   "cell_type": "code",
   "execution_count": 68,
   "id": "66dee0f0",
   "metadata": {},
   "outputs": [],
   "source": [
    "import gtsa\n",
    "import xarray as xr"
   ]
  },
  {
   "cell_type": "code",
   "execution_count": 69,
   "id": "54209fc0",
   "metadata": {},
   "outputs": [],
   "source": [
    "# clip by glacier\n",
    "# get glacier centerline\n",
    "# extract points\n",
    "# sample along points\n",
    "# fit regression to sampled time series\n",
    "# fit regression to entire stack\n",
    "# compute continuous volume change for each glacier"
   ]
  },
  {
   "cell_type": "code",
   "execution_count": 78,
   "id": "81cafd30",
   "metadata": {},
   "outputs": [],
   "source": [
    "bucket = 'petrichor'\n",
    "aws_server_url = 's3.us-west-2.amazonaws.com'\n",
    "product = 'stack'\n",
    "base_directory = './stacks'\n",
    "\n",
    "sites = gtsa.io._get_test_sites(bucket)\n",
    "\n",
    "for s in sites:\n",
    "    folder = gtsa.io.Path(s, product).as_posix()\n",
    "    \n",
    "    zarr_url = gtsa.io.parse_urls_from_S3_bucket(bucket,\n",
    "                                                 aws_server_url = aws_server_url,\n",
    "                                                 folder = folder,\n",
    "                                                 extension= 'stack.zarr')[0]\n",
    "    print(s)\n",
    "    print(len(ds.time))"
   ]
  },
  {
   "cell_type": "code",
   "execution_count": 79,
   "id": "47978062",
   "metadata": {},
   "outputs": [],
   "source": [
    "ds = xr.open_dataset(zarr_url,chunks='auto',engine='zarr')"
   ]
  },
  {
   "cell_type": "code",
   "execution_count": 81,
   "id": "5c89dd00",
   "metadata": {},
   "outputs": [
    {
     "data": {
      "text/plain": [
       "12"
      ]
     },
     "execution_count": 81,
     "metadata": {},
     "output_type": "execute_result"
    }
   ],
   "source": [
    "len(ds.time)"
   ]
  },
  {
   "cell_type": "code",
   "execution_count": null,
   "id": "130d059a",
   "metadata": {},
   "outputs": [],
   "source": []
  }
 ],
 "metadata": {
  "kernelspec": {
   "display_name": "Python [conda env:gtsa]",
   "language": "python",
   "name": "conda-env-gtsa-py"
  },
  "language_info": {
   "codemirror_mode": {
    "name": "ipython",
    "version": 3
   },
   "file_extension": ".py",
   "mimetype": "text/x-python",
   "name": "python",
   "nbconvert_exporter": "python",
   "pygments_lexer": "ipython3",
   "version": "3.11.3"
  }
 },
 "nbformat": 4,
 "nbformat_minor": 5
}
