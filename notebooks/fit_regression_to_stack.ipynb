{
 "cells": [
  {
   "cell_type": "code",
   "execution_count": 1,
   "id": "f0d52f6d",
   "metadata": {},
   "outputs": [],
   "source": [
    "%load_ext autoreload\n",
    "%autoreload 2"
   ]
  },
  {
   "cell_type": "code",
   "execution_count": 2,
   "id": "66dee0f0",
   "metadata": {},
   "outputs": [],
   "source": [
    "import gtsa\n",
    "import xarray as xr"
   ]
  },
  {
   "cell_type": "code",
   "execution_count": 3,
   "id": "41c22fa3",
   "metadata": {},
   "outputs": [],
   "source": [
    "# clip by glacier\n",
    "# get glacier centerline\n",
    "# extract points\n",
    "# sample along points\n",
    "# fit regression to sampled time series\n",
    "# fit regression to entire stack\n",
    "# compute continuous volume change for each glacier"
   ]
  },
  {
   "cell_type": "code",
   "execution_count": 4,
   "id": "3b75ac34",
   "metadata": {},
   "outputs": [
    {
     "name": "stdout",
     "output_type": "stream",
     "text": [
      "baker\n",
      "12\n",
      "gnp\n",
      "2\n",
      "helens\n",
      "11\n",
      "hinman\n",
      "15\n",
      "rainier\n",
      "21\n",
      "scg\n",
      "19\n",
      "tetons\n",
      "7\n"
     ]
    }
   ],
   "source": [
    "bucket = 'petrichor'\n",
    "aws_server_url = 's3.us-west-2.amazonaws.com'\n",
    "product = 'stack'\n",
    "base_directory = './stacks'\n",
    "\n",
    "sites = gtsa.io._get_test_sites(bucket)\n",
    "\n",
    "for s in sites:\n",
    "    folder = gtsa.io.Path(s, product).as_posix()\n",
    "    \n",
    "    zarr_url = gtsa.io.parse_urls_from_S3_bucket(bucket,\n",
    "                                                 aws_server_url = aws_server_url,\n",
    "                                                 folder = folder,\n",
    "                                                 extension= 'stack.zarr')[0]\n",
    "    \n",
    "    ds = xr.open_dataset(zarr_url,chunks='auto',engine='zarr')\n",
    "    print(s)\n",
    "    print(len(ds.time))"
   ]
  },
  {
   "cell_type": "code",
   "execution_count": 5,
   "id": "f2d88f2a",
   "metadata": {},
   "outputs": [],
   "source": [
    "ds = xr.open_dataset(zarr_url,chunks='auto',engine='zarr')"
   ]
  },
  {
   "cell_type": "code",
   "execution_count": 6,
   "id": "ee8b9b54",
   "metadata": {},
   "outputs": [
    {
     "data": {
      "text/plain": [
       "7"
      ]
     },
     "execution_count": 6,
     "metadata": {},
     "output_type": "execute_result"
    }
   ],
   "source": [
    "len(ds.time)"
   ]
  },
  {
   "cell_type": "code",
   "execution_count": null,
   "id": "b4c8f500",
   "metadata": {},
   "outputs": [],
   "source": []
  }
 ],
 "metadata": {
  "kernelspec": {
   "display_name": "Python [conda env:gtsa]",
   "language": "python",
   "name": "conda-env-gtsa-py"
  },
  "language_info": {
   "codemirror_mode": {
    "name": "ipython",
    "version": 3
   },
   "file_extension": ".py",
   "mimetype": "text/x-python",
   "name": "python",
   "nbconvert_exporter": "python",
   "pygments_lexer": "ipython3",
   "version": "3.11.3"
  }
 },
 "nbformat": 4,
 "nbformat_minor": 5
}
