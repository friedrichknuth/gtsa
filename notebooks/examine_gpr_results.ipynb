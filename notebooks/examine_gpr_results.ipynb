{
 "cells": [
  {
   "cell_type": "code",
   "execution_count": 1,
   "id": "8de177b8",
   "metadata": {},
   "outputs": [],
   "source": [
    "%load_ext autoreload\n",
    "%autoreload 2"
   ]
  },
  {
   "cell_type": "code",
   "execution_count": 2,
   "id": "3960d638",
   "metadata": {},
   "outputs": [],
   "source": [
    "import gtsa\n",
    "\n",
    "from gtsa import temporal, plotting, utils"
   ]
  },
  {
   "cell_type": "code",
   "execution_count": 3,
   "id": "7164f59d",
   "metadata": {},
   "outputs": [],
   "source": [
    "import os\n",
    "import glob\n",
    "import numpy as np\n",
    "import pandas as pd\n",
    "import datetime\n",
    "import matplotlib.pyplot as plt\n",
    "\n",
    "import warnings\n",
    "warnings.filterwarnings('ignore')"
   ]
  },
  {
   "cell_type": "code",
   "execution_count": 8,
   "id": "5640985b",
   "metadata": {},
   "outputs": [
    {
     "data": {
      "text/plain": [
       "18"
      ]
     },
     "execution_count": 8,
     "metadata": {},
     "output_type": "execute_result"
    }
   ],
   "source": [
    "gtsa.pathlib.Path('/mnt/storage/knuth/sites/scg/hsfm_data/final_products')\n",
    "dems_fn       = sorted(data_dir.glob('dem*.tif'))\n",
    "orthos_fn      = sorted(data_dir.glob('ortho*.tif'))\n",
    "\n",
    "data_dir    = gtsa.pathlib.Path('/mnt/storage/knuth/sites/scg/hsfm_data')\n",
    "glacier_fn     = data_dir.joinpath('rgi_glacier_oultine.geojson')\n",
    "reference_dem  = data_dir.joinpath('reference_dem_5m.tif')\n",
    "\n",
    "assert len(dems_fn) == len(orthos_fn)\n",
    "assert gtsa.io.parse_timestamps(dems_fn) == gtsa.io.parse_timestamps(orthos_fn)\n",
    "\n",
    "date_times = [d for d in gtsa.io.parse_timestamps(dems_fn)]\n",
    "dates = [d.date() for d in date_times]\n",
    "len(dates)"
   ]
  },
  {
   "cell_type": "code",
   "execution_count": 9,
   "id": "e4b998e0",
   "metadata": {},
   "outputs": [
    {
     "name": "stdout",
     "output_type": "stream",
     "text": [
      "Resampled 18 of 18 dems to match reference DEM spatial_ref, crs, transform, bounds, and resolution.\n"
     ]
    }
   ],
   "source": [
    "ds = gtsa.io.xr_stack_geotifs(dems_fn,\n",
    "                              date_times,\n",
    "                              reference_dem,\n",
    "                              resampling=\"bilinear\",\n",
    "                              save_to_nc = False)"
   ]
  },
  {
   "cell_type": "code",
   "execution_count": 78,
   "id": "0f191c27",
   "metadata": {},
   "outputs": [],
   "source": [
    "with np.load('prediction_stack.npz') as npz:\n",
    "    prediction_stack = np.ma.MaskedArray(**npz)"
   ]
  },
  {
   "cell_type": "code",
   "execution_count": 82,
   "id": "85ccc5b1",
   "metadata": {},
   "outputs": [],
   "source": [
    "X = gtsa.temporal.create_prediction_timeseries(start_date = dates[0].strftime(\"%Y-%m-%d\"),\n",
    "                                               end_date = dates[-1].strftime(\"%Y-%m-%d\"),\n",
    "                                               dt ='M')\n",
    "\n",
    "X_dates = [utils.decyear_to_date_time(i).date() for i in X]\n",
    "X_date_times = [datetime.datetime(t.year, t.month, t.day) for t in X_dates]"
   ]
  },
  {
   "cell_type": "code",
   "execution_count": 83,
   "id": "51744e7b",
   "metadata": {},
   "outputs": [],
   "source": [
    "glacier_gdf = gtsa.utils.get_largest_glacier_from_shapefile(glacier_fn)\n",
    "datasets=[]\n",
    "for i,v in enumerate(prediction_stack.data):\n",
    "    tmp_da = ds['band1'].isel(time=0).drop('time')\n",
    "    tmp_da.values = v\n",
    "#     tmp_da.values = tmp_da.rio.clip(glacier_gdf.geometry)\n",
    "    tmp_da = tmp_da.assign_coords({\"time\": X_date_times[i]})\n",
    "    tmp_da = tmp_da.expand_dims(\"time\")\n",
    "    \n",
    "    datasets.append(tmp_da)\n",
    "    \n",
    "ds_new = gtsa.io.xr.concat(datasets, dim=\"time\", combine_attrs=\"no_conflicts\")"
   ]
  },
  {
   "cell_type": "code",
   "execution_count": 84,
   "id": "eddad09c",
   "metadata": {},
   "outputs": [],
   "source": [
    "ds_new = ds_new.rio.clip(glacier_gdf.geometry)"
   ]
  },
  {
   "cell_type": "code",
   "execution_count": null,
   "id": "99046c3d",
   "metadata": {},
   "outputs": [],
   "source": []
  },
  {
   "cell_type": "code",
   "execution_count": 85,
   "id": "c851ac0b",
   "metadata": {},
   "outputs": [],
   "source": [
    "datasets=[]\n",
    "\n",
    "for i,v in enumerate(ds_new):\n",
    "    try:\n",
    "        tmp_da = ds_new[i+1] - v\n",
    "        tmp_da = tmp_da.assign_coords({\"time\": X[i]})\n",
    "        tmp_da = tmp_da.expand_dims(\"time\")\n",
    "    except:\n",
    "        pass\n",
    "    datasets.append(tmp_da)\n",
    "    \n",
    "    \n",
    "ds_new = gtsa.io.xr.concat(datasets, dim=\"time\", combine_attrs=\"no_conflicts\")"
   ]
  },
  {
   "cell_type": "code",
   "execution_count": 86,
   "id": "502b77f0",
   "metadata": {},
   "outputs": [],
   "source": [
    "ds_new = ds_new.where((ds_new > -1000.) & (ds_new < 1000.), np.nan) "
   ]
  },
  {
   "cell_type": "code",
   "execution_count": 114,
   "id": "eb073a83",
   "metadata": {},
   "outputs": [],
   "source": [
    "arr = ds_new.data"
   ]
  },
  {
   "cell_type": "code",
   "execution_count": 88,
   "id": "281abdeb",
   "metadata": {},
   "outputs": [
    {
     "data": {
      "text/plain": [
       "-127.62927"
      ]
     },
     "execution_count": 88,
     "metadata": {},
     "output_type": "execute_result"
    }
   ],
   "source": [
    "np.nanmin(arr)"
   ]
  },
  {
   "cell_type": "code",
   "execution_count": 89,
   "id": "8997d861",
   "metadata": {},
   "outputs": [
    {
     "data": {
      "text/plain": [
       "110.301025"
      ]
     },
     "execution_count": 89,
     "metadata": {},
     "output_type": "execute_result"
    }
   ],
   "source": [
    "np.nanmax(arr)"
   ]
  },
  {
   "cell_type": "code",
   "execution_count": 90,
   "id": "17025f8a",
   "metadata": {},
   "outputs": [],
   "source": [
    "# gtsa.plotting.plot_timelapse(arr, vmin=-1,vmax=1,cmap='RdBu', output_file='test.mp4')"
   ]
  },
  {
   "cell_type": "code",
   "execution_count": 94,
   "id": "600eb6b2",
   "metadata": {},
   "outputs": [],
   "source": [
    "net = []\n",
    "for i in arr:\n",
    "    net.append(np.nansum(i.flatten()))"
   ]
  },
  {
   "cell_type": "code",
   "execution_count": null,
   "id": "ca506557",
   "metadata": {},
   "outputs": [],
   "source": []
  },
  {
   "cell_type": "code",
   "execution_count": 95,
   "id": "4b4cc67d",
   "metadata": {},
   "outputs": [
    {
     "data": {
      "text/plain": [
       "<matplotlib.collections.PathCollection at 0x7fc7d3214400>"
      ]
     },
     "execution_count": 95,
     "metadata": {},
     "output_type": "execute_result"
    },
    {
     "data": {
      "image/png": "[encoded data removed]",
      "text/plain": [
       "<Figure size 1080x720 with 1 Axes>"
      ]
     },
     "metadata": {
      "needs_background": "light"
     },
     "output_type": "display_data"
    }
   ],
   "source": [
    "fig,ax = plt.subplots(figsize=(15,10))\n",
    "ax.vlines(date_times, ymin=np.nanmin(net), ymax=np.nanmax(net), color='k', alpha=0.2)\n",
    "ax.scatter(X_date_times, net)\n"
   ]
  },
  {
   "cell_type": "code",
   "execution_count": 124,
   "id": "4c5f6d8d",
   "metadata": {},
   "outputs": [],
   "source": [
    "ds = ds.rio.clip(glacier_gdf.geometry)"
   ]
  },
  {
   "cell_type": "code",
   "execution_count": 125,
   "id": "09f1ef6d",
   "metadata": {},
   "outputs": [],
   "source": [
    "arr = ds['band1'].data"
   ]
  },
  {
   "cell_type": "code",
   "execution_count": 178,
   "id": "a5848d62",
   "metadata": {},
   "outputs": [],
   "source": [
    "net_v = []\n",
    "for i in net:\n",
    "    net_v.append(i *2*2)"
   ]
  },
  {
   "cell_type": "code",
   "execution_count": 126,
   "id": "1717311d",
   "metadata": {},
   "outputs": [],
   "source": [
    "coverage = []\n",
    "for i in arr:\n",
    "    coverage.append(np.count_nonzero(~np.isnan(i)))"
   ]
  },
  {
   "cell_type": "code",
   "execution_count": 127,
   "id": "d5f27f4a",
   "metadata": {},
   "outputs": [],
   "source": [
    "coverage_pct = []\n",
    "for i in coverage:\n",
    "    coverage_pct.append(i / np.max(coverage))"
   ]
  },
  {
   "cell_type": "code",
   "execution_count": 147,
   "id": "696b8030",
   "metadata": {},
   "outputs": [],
   "source": [
    "import matplotlib.pyplot as plt\n",
    "from matplotlib.gridspec import GridSpec"
   ]
  },
  {
   "cell_type": "code",
   "execution_count": 228,
   "id": "a5ecfaf8",
   "metadata": {},
   "outputs": [
    {
     "data": {
      "image/png": "[encoded data removed]",
      "text/plain": [
       "<Figure size 1080x432 with 2 Axes>"
      ]
     },
     "metadata": {
      "needs_background": "light"
     },
     "output_type": "display_data"
    }
   ],
   "source": [
    "fig = plt.figure(figsize=(15,6))\n",
    "gs = GridSpec(2, 1, height_ratios=[4, 1])\n",
    "\n",
    "\n",
    "axes = [fig.add_subplot(gs[0]), fig.add_subplot(gs[1])]\n",
    "\n",
    "ax = axes[0]\n",
    "ax.scatter(X_date_times, net_v)\n",
    "xlim = ax.get_xlim()\n",
    "ylim = ax.get_ylim()\n",
    "ax.vlines(date_times, ymin=ylim[0], ymax=ylim[1], color='k', linewidth=0.2)\n",
    "ax.set_ylim(ylim)\n",
    "ax.set_ylim((-50000, 50000))\n",
    "ax.set_ylabel('Volume [m^3]', size=15)\n",
    "ax.set_title('Estimated GPR volume change', size=15)\n",
    "ax.tick_params('x', labelbottom=False)\n",
    "\n",
    "ax = axes[1]\n",
    "ax.vlines(date_times, ymin=0, ymax=coverage_pct, alpha=0.2, linewidth=10)\n",
    "ax.hlines(0.5, xmin=xlim[0], xmax=xlim[1], color='k', linewidth=0.2)\n",
    "ax.set_ylim([0, 1])\n",
    "ax.set_xlim(xlim)\n",
    "ax.set_xlabel('Year', size=15)\n",
    "ax.set_ylabel('%\\ncoverage', size=15)\n",
    "ax.set_title('Percent DEM glacier coverage', size=15)\n",
    "# axes[0].get_shared_x_axes().join(axes[0], *axes)\n",
    "\n",
    "plt.tight_layout()"
   ]
  },
  {
   "cell_type": "code",
   "execution_count": null,
   "id": "3840d050",
   "metadata": {},
   "outputs": [],
   "source": []
  }
 ],
 "metadata": {
  "kernelspec": {
   "display_name": "Python [conda env:gtsa]",
   "language": "python",
   "name": "conda-env-gtsa-py"
  },
  "language_info": {
   "codemirror_mode": {
    "name": "ipython",
    "version": 3
   },
   "file_extension": ".py",
   "mimetype": "text/x-python",
   "name": "python",
   "nbconvert_exporter": "python",
   "pygments_lexer": "ipython3",
   "version": "3.10.5"
  }
 },
 "nbformat": 4,
 "nbformat_minor": 5
}
