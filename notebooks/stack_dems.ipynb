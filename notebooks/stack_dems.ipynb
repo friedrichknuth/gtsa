{
 "cells": [
  {
   "cell_type": "code",
   "execution_count": 1,
   "id": "f0d52f6d",
   "metadata": {},
   "outputs": [],
   "source": [
    "%load_ext autoreload\n",
    "%autoreload 2"
   ]
  },
  {
   "cell_type": "code",
   "execution_count": 10,
   "id": "66dee0f0",
   "metadata": {},
   "outputs": [],
   "source": [
    "import gtsa\n",
    "import pandas as pd"
   ]
  },
  {
   "cell_type": "markdown",
   "id": "307db2ef",
   "metadata": {},
   "source": [
    "### Lazy load co-registered DEMs from S3"
   ]
  },
  {
   "cell_type": "code",
   "execution_count": 3,
   "id": "aae489cb",
   "metadata": {},
   "outputs": [],
   "source": [
    "s3_bucket_name = 'petrichor'\n",
    "folder = 'rainier/dems/'"
   ]
  },
  {
   "cell_type": "code",
   "execution_count": 11,
   "id": "16608a3d",
   "metadata": {},
   "outputs": [],
   "source": [
    "cog_urls = gtsa.io.parse_urls_from_S3_bucket(s3_bucket_name,\n",
    "                                             aws_server_url = 's3.us-west-2.amazonaws.com',\n",
    "                                             folder = folder)\n",
    "\n",
    "date_strings = gtsa.io.parse_timestamps(cog_urls,\n",
    "                                        date_string_pattern='....-..-..')\n",
    "\n",
    "date_times = [pd.to_datetime(x) for x in date_strings]"
   ]
  },
  {
   "cell_type": "code",
   "execution_count": 12,
   "id": "ae4aa6ae",
   "metadata": {},
   "outputs": [
    {
     "data": {
      "text/plain": [
       "True"
      ]
     },
     "execution_count": 12,
     "metadata": {},
     "output_type": "execute_result"
    }
   ],
   "source": [
    "len(cog_urls) == len(date_times)"
   ]
  },
  {
   "cell_type": "code",
   "execution_count": 9,
   "id": "93e7cf3b",
   "metadata": {},
   "outputs": [
    {
     "data": {
      "text/plain": [
       "'http://petrichor.s3.us-west-2.amazonaws.com/rainier/dems/dem_2008-10-01_WA_reproj_COG.tif'"
      ]
     },
     "execution_count": 9,
     "metadata": {},
     "output_type": "execute_result"
    }
   ],
   "source": [
    "ref_dem = cog_urls[-1]\n",
    "ref_dem"
   ]
  },
  {
   "cell_type": "code",
   "execution_count": 124,
   "id": "75de8686",
   "metadata": {},
   "outputs": [
    {
     "name": "stdout",
     "output_type": "stream",
     "text": [
      "Saved .nc files in nc_tmp_data_rainier\n"
     ]
    }
   ],
   "source": [
    "ds = gtsa.io.xr_stack_geotifs(cog_urls,\n",
    "                              date_times,\n",
    "                              ref_dem,\n",
    "                              resampling=\"bilinear\",\n",
    "                              save_to_nc = True,\n",
    "                              nc_out_dir = './nc_tmp_data_rainier',\n",
    "                              overwrite = False)"
   ]
  },
  {
   "cell_type": "markdown",
   "id": "57f92a39",
   "metadata": {},
   "source": [
    "### Write to Zarr file"
   ]
  },
  {
   "cell_type": "code",
   "execution_count": 138,
   "id": "be4b0d45",
   "metadata": {},
   "outputs": [
    {
     "name": "stdout",
     "output_type": "stream",
     "text": [
      "zarr_stack_rainier/stack.zarr\n",
      "zarr_stack_rainier/stack_tmp.zarr\n",
      "\n",
      "Zarr file exists\n",
      "\n",
      "Zarr file info\n",
      "/\n",
      " ├── band1 (21, 13133, 21786) float32\n",
      " ├── time (21,) int32\n",
      " ├── x (21786,) float64\n",
      " └── y (13133,) float64\n",
      "Name               : /band1\n",
      "Type               : zarr.core.Array\n",
      "Data type          : float32\n",
      "Shape              : (21, 13133, 21786)\n",
      "Chunk shape        : (21, 821, 1362)\n",
      "Order              : C\n",
      "Read-only          : False\n",
      "Compressor         : Blosc(cname='lz4', clevel=5, shuffle=SHUFFLE, blocksize=0)\n",
      "Store type         : zarr.storage.DirectoryStore\n",
      "No. bytes          : 24033705192 (22.4G)\n",
      "No. bytes stored   : 3321208369 (3.1G)\n",
      "Storage ratio      : 7.2\n",
      "Chunks initialized : 256/256\n",
      "\n",
      "\n",
      "Determining optimal chunk size for processing\n",
      "Chunk shape: (21,120,200)\n",
      "Chunk size: 2016000 (2.016G)\n"
     ]
    }
   ],
   "source": [
    "ds_zarr = gtsa.io.create_zarr_stack(ds,\n",
    "                                    output_directory = './zarr_stack_rainier',\n",
    "                                    overwrite = False)"
   ]
  },
  {
   "cell_type": "code",
   "execution_count": null,
   "id": "3b97455c",
   "metadata": {},
   "outputs": [],
   "source": []
  }
 ],
 "metadata": {
  "kernelspec": {
   "display_name": "Python [conda env:gtsa]",
   "language": "python",
   "name": "conda-env-gtsa-py"
  },
  "language_info": {
   "codemirror_mode": {
    "name": "ipython",
    "version": 3
   },
   "file_extension": ".py",
   "mimetype": "text/x-python",
   "name": "python",
   "nbconvert_exporter": "python",
   "pygments_lexer": "ipython3",
   "version": "3.11.3"
  }
 },
 "nbformat": 4,
 "nbformat_minor": 5
}
