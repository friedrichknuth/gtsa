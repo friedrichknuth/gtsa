{
 "cells": [
  {
   "cell_type": "code",
   "execution_count": null,
   "id": "3cbf315f",
   "metadata": {},
   "outputs": [],
   "source": [
    "%load_ext autoreload\n",
    "%autoreload 2"
   ]
  },
  {
   "cell_type": "code",
   "execution_count": null,
   "id": "0a11ee4b",
   "metadata": {},
   "outputs": [],
   "source": [
    "import gtsa"
   ]
  },
  {
   "cell_type": "markdown",
   "id": "a58e583b",
   "metadata": {},
   "source": [
    "### Plot a single COG\n",
    "\n",
    "The COGs generated with `01_create_cogs.py`, for example, must be staged at a publically accessible URL that can rapidly serve the data for interactive visualization. In this example the data were staged on AWS S3."
   ]
  },
  {
   "cell_type": "code",
   "execution_count": null,
   "id": "a070d8c0",
   "metadata": {},
   "outputs": [],
   "source": [
    "cog_url = 'http://conus-historicals.s3.amazonaws.com/baker/orthos/ortho_1947-09-14_EE_reproj_COG.tif'"
   ]
  },
  {
   "cell_type": "code",
   "execution_count": null,
   "id": "73ce0a7f",
   "metadata": {},
   "outputs": [],
   "source": [
    "m = gtsa.plotting.plot_cog(cog_url   = cog_url,\n",
    "                       zoom_start = 11)\n",
    "m"
   ]
  },
  {
   "cell_type": "code",
   "execution_count": null,
   "id": "cb1cefdb",
   "metadata": {},
   "outputs": [],
   "source": [
    "# m.save('mount_baker_1947-09-14.html')"
   ]
  },
  {
   "cell_type": "markdown",
   "id": "f8738564",
   "metadata": {},
   "source": [
    "### Plot multiple cogs"
   ]
  },
  {
   "cell_type": "code",
   "execution_count": null,
   "id": "8d63f866",
   "metadata": {},
   "outputs": [],
   "source": [
    "s3_bucket_name = 'conus-historicals'\n",
    "folder_path = 'baker/orthos'"
   ]
  },
  {
   "cell_type": "code",
   "execution_count": null,
   "id": "61fff947",
   "metadata": {},
   "outputs": [],
   "source": [
    "cog_urls = gtsa.io.parse_urls_from_S3_bucket(s3_bucket_name,\n",
    "                                             folder = folder_path,\n",
    "                                             aws_server_url = 's3.amazonaws.com')\n",
    "\n",
    "dates = gtsa.io.parse_timestamps(cog_urls,\n",
    "                                 date_string_pattern='....-..-..')"
   ]
  },
  {
   "cell_type": "code",
   "execution_count": null,
   "id": "d6ecd1b6",
   "metadata": {},
   "outputs": [],
   "source": [
    "map_center_lon = -121.8144\n",
    "map_center_lat = 48.7767\n",
    "\n",
    "m = gtsa.plotting.plot_cogs(cog_urls,\n",
    "                        dates,\n",
    "                        map_center_lon      = map_center_lon,\n",
    "                        map_center_lat      = map_center_lat,\n",
    "                        zoom_start          = 11,\n",
    "                        overview_cog_index  = 0,\n",
    "                        print_info          = True,\n",
    "                       )\n",
    "m"
   ]
  },
  {
   "cell_type": "code",
   "execution_count": null,
   "id": "dbd8f720",
   "metadata": {},
   "outputs": [],
   "source": [
    "# m.save('mount_baker_all.html')"
   ]
  },
  {
   "cell_type": "markdown",
   "id": "7ce040b7",
   "metadata": {},
   "source": [
    "### Plot multiple sites"
   ]
  },
  {
   "cell_type": "code",
   "execution_count": null,
   "id": "8bb3868d",
   "metadata": {},
   "outputs": [],
   "source": [
    "s3_bucket_name = 'conus-historicals'"
   ]
  },
  {
   "cell_type": "code",
   "execution_count": null,
   "id": "c1f13a94",
   "metadata": {},
   "outputs": [],
   "source": [
    "sites = ['baker','scg']\n",
    "folders = [gtsa.io.Path(s, 'orthos').as_posix() for s in sites]\n",
    "\n",
    "site_marker_names = ['Mount Baker', 'South Cascade']\n",
    "site_marker_coords = [(48.7767, -121.8144), (48.3717, -121.0660)]\n",
    "cog_overview_indices = [0,0]\n",
    "\n",
    "map_center = (48.5485, -121.4045)"
   ]
  },
  {
   "cell_type": "code",
   "execution_count": null,
   "id": "721cbbe0",
   "metadata": {},
   "outputs": [],
   "source": [
    "payload = {}\n",
    "payload['map_center'] = map_center\n",
    "payload['sites'] = {}\n",
    "\n",
    "for i, site in enumerate(sites):\n",
    "    payload['sites'][site] = {'marker_name':site_marker_names[i],\n",
    "                              'marker_coords': site_marker_coords[i],\n",
    "                     'overview_index': cog_overview_indices[i],\n",
    "                     'cog_urls': gtsa.io.parse_urls_from_S3_bucket(s3_bucket_name,\n",
    "                                                                   folder = folders[i],\n",
    "                                                                   aws_server_url = 's3.amazonaws.com'),\n",
    "                             }\n",
    "    payload['sites'][site]['dates'] = gtsa.io.parse_timestamps(payload['sites'][site]['cog_urls'])\n",
    "    payload['sites'][site]['cog_names'] = [site +'_'+ x for x in payload['sites'][site]['dates']]"
   ]
  },
  {
   "cell_type": "code",
   "execution_count": null,
   "id": "680bc38f",
   "metadata": {},
   "outputs": [],
   "source": [
    "m = gtsa.plotting.plot_cogs_sites(payload,\n",
    "                                  zoom_start           = 9,\n",
    "                                  print_info          = True,\n",
    "                             )\n",
    "m"
   ]
  },
  {
   "cell_type": "code",
   "execution_count": null,
   "id": "13599b29",
   "metadata": {},
   "outputs": [],
   "source": [
    "# m.save('mount_baker-south_cascade.html')"
   ]
  }
 ],
 "metadata": {
  "kernelspec": {
   "display_name": "Python [conda env:gtsa]",
   "language": "python",
   "name": "conda-env-gtsa-py"
  },
  "language_info": {
   "codemirror_mode": {
    "name": "ipython",
    "version": 3
   },
   "file_extension": ".py",
   "mimetype": "text/x-python",
   "name": "python",
   "nbconvert_exporter": "python",
   "pygments_lexer": "ipython3",
   "version": "3.11.4"
  }
 },
 "nbformat": 4,
 "nbformat_minor": 5
}
