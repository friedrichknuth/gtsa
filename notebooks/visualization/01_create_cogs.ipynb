{
 "cells": [
  {
   "cell_type": "code",
   "execution_count": null,
   "id": "3a8dbe3d",
   "metadata": {},
   "outputs": [],
   "source": [
    "%load_ext autoreload\n",
    "%autoreload 2"
   ]
  },
  {
   "cell_type": "code",
   "execution_count": null,
   "id": "3d63964a",
   "metadata": {},
   "outputs": [],
   "source": [
    "import gtsa\n",
    "from pathlib import Path"
   ]
  },
  {
   "cell_type": "markdown",
   "id": "c26c1459-373d-4c54-a3db-62fa201ba607",
   "metadata": {},
   "source": [
    "# Create Cloud Optimized GeoTIFFs\n",
    "\n",
    "Create Cloud Optimized GeoTIFFs for Mount Baker and South Cascade Glacier example data. These data were sent to public storage on Amazon S3 and are used for interactive visualization using Folium and TiTiler."
   ]
  },
  {
   "cell_type": "code",
   "execution_count": null,
   "id": "537d5241",
   "metadata": {},
   "outputs": [],
   "source": [
    "data_dirs = ['../../data/orthos/south-cascade',\n",
    "             '../../data/orthos/mount-baker']"
   ]
  },
  {
   "cell_type": "code",
   "execution_count": null,
   "id": "65c7c4fc",
   "metadata": {},
   "outputs": [],
   "source": [
    "ortho_cogs = []\n",
    "\n",
    "for data_dir in data_dirs:\n",
    "    files = [x for x in sorted(Path(data_dir).glob('*.tif'))]\n",
    "    output_directory = Path(data_dir,'cogs')\n",
    "\n",
    "\n",
    "    out = gtsa.utils.create_cogs(files,\n",
    "                                 output_directory = output_directory,\n",
    "                                 crs = 'EPSG:4326', # required for visualization with folium and titiler\n",
    "                                 overwrite = False,\n",
    "                                 workers = None, \n",
    "                                 verbose = True)\n",
    "    \n",
    "    ortho_cogs.append(out)"
   ]
  },
  {
   "cell_type": "code",
   "execution_count": null,
   "id": "ec01d473-b8a0-414f-bdc0-9b17320d5428",
   "metadata": {},
   "outputs": [],
   "source": []
  }
 ],
 "metadata": {
  "kernelspec": {
   "display_name": "Python [conda env:gtsa]",
   "language": "python",
   "name": "conda-env-gtsa-py"
  },
  "language_info": {
   "codemirror_mode": {
    "name": "ipython",
    "version": 3
   },
   "file_extension": ".py",
   "mimetype": "text/x-python",
   "name": "python",
   "nbconvert_exporter": "python",
   "pygments_lexer": "ipython3",
   "version": "3.11.4"
  }
 },
 "nbformat": 4,
 "nbformat_minor": 5
}
