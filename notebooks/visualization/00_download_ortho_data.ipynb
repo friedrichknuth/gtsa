{
 "cells": [
  {
   "cell_type": "code",
   "execution_count": 1,
   "id": "25883e73",
   "metadata": {},
   "outputs": [],
   "source": [
    "%load_ext autoreload\n",
    "%autoreload 2"
   ]
  },
  {
   "cell_type": "code",
   "execution_count": 2,
   "id": "db4acd00",
   "metadata": {},
   "outputs": [],
   "source": [
    "import gtsa"
   ]
  },
  {
   "cell_type": "markdown",
   "id": "8e4f9159",
   "metadata": {},
   "source": [
    "# Download visualization example data\n",
    "\n",
    "Downloads historical orthoimages for Mount Baker and South Cascade Glacier. These data will be used in subsequent notebooks for demonstration purposes.\n",
    "\n",
    "#### Prerequesites\n",
    "- None"
   ]
  },
  {
   "cell_type": "code",
   "execution_count": 3,
   "id": "fba78da0",
   "metadata": {},
   "outputs": [],
   "source": [
    "output_directory = '../../data'\n",
    "product = 'ortho'\n",
    "overwrite = False"
   ]
  },
  {
   "cell_type": "code",
   "execution_count": 4,
   "id": "1992139a",
   "metadata": {},
   "outputs": [
    {
     "name": "stdout",
     "output_type": "stream",
     "text": [
      "Downloading data from https://zenodo.org/record/7297154 for mount-baker\n",
      "overwrite set to True\n",
      "Downloading:\n",
      "https://zenodo.org/record/7297154/files/hsfm_NAGAP_mount-baker_19700909_ortho.tif?download=1\n",
      "https://zenodo.org/record/7297154/files/hsfm_NAGAP_mount-baker_19700929_ortho.tif?download=1\n",
      "https://zenodo.org/record/7297154/files/hsfm_NAGAP_mount-baker_19740810_ortho.tif?download=1\n",
      "https://zenodo.org/record/7297154/files/hsfm_NAGAP_mount-baker_19770927_ortho.tif?download=1\n",
      "https://zenodo.org/record/7297154/files/hsfm_NAGAP_mount-baker_19791006_ortho.tif?download=1\n",
      "https://zenodo.org/record/7297154/files/hsfm_NAGAP_mount-baker_19870821_ortho.tif?download=1\n",
      "https://zenodo.org/record/7297154/files/hsfm_NAGAP_mount-baker_19900905_ortho.tif?download=1\n",
      "https://zenodo.org/record/7297154/files/hsfm_NAGAP_mount-baker_19910909_ortho.tif?download=1\n",
      "https://zenodo.org/record/7297154/files/hsfm_NAGAP_mount-baker_19920915_ortho.tif?download=1\n",
      "https://zenodo.org/record/7297154/files/hsfm_NAGAP_mount-baker_19920918_ortho.tif?download=1\n",
      "Writing to ../../data/orthos/mount-baker\n"
     ]
    },
    {
     "name": "stderr",
     "output_type": "stream",
     "text": [
      "100%|████████████████████████████████████████████████████| 10/10 [26:17<00:00, 157.74s/it]\n"
     ]
    }
   ],
   "source": [
    "gtsa.dataquery.download_historical_data(site = 'mount-baker',\n",
    "                                         product = product,\n",
    "                                         output_directory = output_directory,\n",
    "                                         overwrite = overwrite,\n",
    "                                        )"
   ]
  },
  {
   "cell_type": "code",
   "execution_count": 5,
   "id": "a41e03b6",
   "metadata": {},
   "outputs": [
    {
     "name": "stdout",
     "output_type": "stream",
     "text": [
      "Downloading data from https://zenodo.org/record/7297154 for south-cascade\n",
      "overwrite set to True\n",
      "Downloading:\n",
      "https://zenodo.org/record/7297154/files/hsfm_NAGAP_south-cascade_19670921_ortho.tif?download=1\n",
      "https://zenodo.org/record/7297154/files/hsfm_NAGAP_south-cascade_19700929_ortho.tif?download=1\n",
      "https://zenodo.org/record/7297154/files/hsfm_NAGAP_south-cascade_19740810_ortho.tif?download=1\n",
      "https://zenodo.org/record/7297154/files/hsfm_NAGAP_south-cascade_19771003_ortho.tif?download=1\n",
      "https://zenodo.org/record/7297154/files/hsfm_NAGAP_south-cascade_19790820_ortho.tif?download=1\n",
      "https://zenodo.org/record/7297154/files/hsfm_NAGAP_south-cascade_19791006_ortho.tif?download=1\n",
      "https://zenodo.org/record/7297154/files/hsfm_NAGAP_south-cascade_19840814_ortho.tif?download=1\n",
      "https://zenodo.org/record/7297154/files/hsfm_NAGAP_south-cascade_19860905_ortho.tif?download=1\n",
      "https://zenodo.org/record/7297154/files/hsfm_NAGAP_south-cascade_19870821_ortho.tif?download=1\n",
      "https://zenodo.org/record/7297154/files/hsfm_NAGAP_south-cascade_19900905_ortho.tif?download=1\n",
      "https://zenodo.org/record/7297154/files/hsfm_NAGAP_south-cascade_19910909_ortho.tif?download=1\n",
      "https://zenodo.org/record/7297154/files/hsfm_NAGAP_south-cascade_19920728_ortho.tif?download=1\n",
      "https://zenodo.org/record/7297154/files/hsfm_NAGAP_south-cascade_19920915_ortho.tif?download=1\n",
      "https://zenodo.org/record/7297154/files/hsfm_NAGAP_south-cascade_19920918_ortho.tif?download=1\n",
      "https://zenodo.org/record/7297154/files/hsfm_NAGAP_south-cascade_19921006_ortho.tif?download=1\n",
      "https://zenodo.org/record/7297154/files/hsfm_NAGAP_south-cascade_19940906_ortho.tif?download=1\n",
      "https://zenodo.org/record/7297154/files/hsfm_NAGAP_south-cascade_19960910_ortho.tif?download=1\n",
      "https://zenodo.org/record/7297154/files/hsfm_NAGAP_south-cascade_19970923_ortho.tif?download=1\n",
      "Writing to ../../data/orthos/south-cascade\n"
     ]
    },
    {
     "name": "stderr",
     "output_type": "stream",
     "text": [
      "100%|█████████████████████████████████████████████████████| 18/18 [16:29<00:00, 54.95s/it]\n"
     ]
    }
   ],
   "source": [
    "gtsa.dataquery.download_historical_data(site = 'south-cascade',\n",
    "                                         product = product,\n",
    "                                         output_directory = output_directory,\n",
    "                                         overwrite = overwrite,\n",
    "                                        )"
   ]
  }
 ],
 "metadata": {
  "kernelspec": {
   "display_name": "Python [conda env:gtsa]",
   "language": "python",
   "name": "conda-env-gtsa-py"
  },
  "language_info": {
   "codemirror_mode": {
    "name": "ipython",
    "version": 3
   },
   "file_extension": ".py",
   "mimetype": "text/x-python",
   "name": "python",
   "nbconvert_exporter": "python",
   "pygments_lexer": "ipython3",
   "version": "3.11.4"
  }
 },
 "nbformat": 4,
 "nbformat_minor": 5
}
